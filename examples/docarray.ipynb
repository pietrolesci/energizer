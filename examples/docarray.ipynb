{
 "cells": [
  {
   "cell_type": "code",
   "execution_count": 1,
   "metadata": {},
   "outputs": [],
   "source": [
    "%load_ext autoreload\n",
    "%autoreload 2"
   ]
  },
  {
   "cell_type": "code",
   "execution_count": 74,
   "metadata": {},
   "outputs": [],
   "source": [
    "import numpy as np\n",
    "from datasets import load_dataset\n",
    "from docarray import BaseDoc, DocList\n",
    "from docarray.index import HnswDocumentIndex\n",
    "from docarray.typing import NdArray\n",
    "from sentence_transformers import SentenceTransformer\n",
    "from transformers import AutoTokenizer"
   ]
  },
  {
   "cell_type": "code",
   "execution_count": 3,
   "metadata": {},
   "outputs": [],
   "source": [
    "model_name = \"google/bert_uncased_L-2_H-128_A-2\"\n",
    "tokenizer = AutoTokenizer.from_pretrained(model_name)\n",
    "\n",
    "embedder = SentenceTransformer(\"all-MiniLM-L6-v2\")"
   ]
  },
  {
   "cell_type": "code",
   "execution_count": 9,
   "metadata": {},
   "outputs": [
    {
     "name": "stderr",
     "output_type": "stream",
     "text": [
      "Found cached dataset ag_news (/home/pl487/.cache/huggingface/datasets/pietrolesci___ag_news/concat/1.0.0/5ee6e111adc7a901ca734b79fbebff09d9dba91722387a794efff8d9c178a6a3)\n"
     ]
    },
    {
     "data": {
      "application/vnd.jupyter.widget-view+json": {
       "model_id": "1d3c796d7e794ecf9223549cde0caa54",
       "version_major": 2,
       "version_minor": 0
      },
      "text/plain": [
       "  0%|          | 0/2 [00:00<?, ?it/s]"
      ]
     },
     "metadata": {},
     "output_type": "display_data"
    },
    {
     "data": {
      "application/vnd.jupyter.widget-view+json": {
       "model_id": "a61048d3c9d149568c307dfa98486d71",
       "version_major": 2,
       "version_minor": 0
      },
      "text/plain": [
       "Map:   0%|          | 0/7600 [00:00<?, ? examples/s]"
      ]
     },
     "metadata": {},
     "output_type": "display_data"
    }
   ],
   "source": [
    "ds_dict = (\n",
    "    load_dataset(\"pietrolesci/ag_news\", \"concat\")[\"test\"]\n",
    "    .map(\n",
    "        lambda ex: {**tokenizer(ex[\"text\"]), \"embedding\": embedder.encode(ex[\"text\"], device=\"cuda\", batch_size=256)},\n",
    "        batched=True,\n",
    "    )\n",
    "    .rename_columns({\"label\": \"labels\"})\n",
    ")"
   ]
  },
  {
   "cell_type": "code",
   "execution_count": 85,
   "metadata": {},
   "outputs": [],
   "source": [
    "class Document(BaseDoc):\n",
    "    text: str\n",
    "    # input_ids: list[int]\n",
    "    # attention_mask: list[int]\n",
    "    labels: int\n",
    "    embedding: NdArray[384]"
   ]
  },
  {
   "cell_type": "code",
   "execution_count": 86,
   "metadata": {},
   "outputs": [],
   "source": [
    "dl = DocList[Document](\n",
    "    [\n",
    "        Document(\n",
    "            text=doc[\"text\"],\n",
    "            # input_ids=doc[\"input_ids\"],\n",
    "            # attention_mask=doc[\"attention_mask\"],\n",
    "            labels=doc[\"labels\"],\n",
    "            embedding=doc[\"embedding\"],\n",
    "        )\n",
    "        for doc in ds_dict.to_list()\n",
    "    ]\n",
    ")"
   ]
  },
  {
   "cell_type": "code",
   "execution_count": 87,
   "metadata": {},
   "outputs": [
    {
     "data": {
      "text/html": [
       "<pre style=\"white-space:pre;overflow-x:auto;line-height:normal;font-family:Menlo,'DejaVu Sans Mono',consolas,'Courier New',monospace\">📄 <span style=\"font-weight: bold\">Document </span>: <span style=\"color: #008080; text-decoration-color: #008080\">c5d39a7 ...</span>\n",
       "╭────────────────────┬────────────────────────────────────────────────────────────────────────────────────────────╮\n",
       "│<span style=\"font-weight: bold\"> Attribute          </span>│<span style=\"font-weight: bold\"> Value                                                                                      </span>│\n",
       "├────────────────────┼────────────────────────────────────────────────────────────────────────────────────────────┤\n",
       "│ text: str          │ Fears for T N pension after talks Unions represent ... (length: 161)                       │\n",
       "│ labels: int        │ 2                                                                                          │\n",
       "│ embedding: NdArray │ NdArray of shape (384,), dtype: float64                                                    │\n",
       "╰────────────────────┴────────────────────────────────────────────────────────────────────────────────────────────╯\n",
       "</pre>\n"
      ],
      "text/plain": [
       "📄 \u001b[1mDocument \u001b[0m: \u001b[36mc5d39a7 ...\u001b[0m\n",
       "╭────────────────────┬────────────────────────────────────────────────────────────────────────────────────────────╮\n",
       "│\u001b[1m \u001b[0m\u001b[1mAttribute         \u001b[0m\u001b[1m \u001b[0m│\u001b[1m \u001b[0m\u001b[1mValue                                                                                     \u001b[0m\u001b[1m \u001b[0m│\n",
       "├────────────────────┼────────────────────────────────────────────────────────────────────────────────────────────┤\n",
       "│ text: str          │ Fears for T N pension after talks Unions represent ... (length: 161)                       │\n",
       "│ labels: int        │ 2                                                                                          │\n",
       "│ embedding: NdArray │ NdArray of shape (384,), dtype: float64                                                    │\n",
       "╰────────────────────┴────────────────────────────────────────────────────────────────────────────────────────────╯\n"
      ]
     },
     "metadata": {},
     "output_type": "display_data"
    }
   ],
   "source": [
    "dl[0]"
   ]
  },
  {
   "cell_type": "code",
   "execution_count": 88,
   "metadata": {},
   "outputs": [],
   "source": [
    "db = HnswDocumentIndex[Document](work_dir=\"./db\")"
   ]
  },
  {
   "cell_type": "code",
   "execution_count": 95,
   "metadata": {},
   "outputs": [],
   "source": [
    "db.configure(\n",
    "    default_column_config={\n",
    "        np.ndarray: {\n",
    "            \"dim\": -1,\n",
    "            \"index\": True,\n",
    "            \"space\": \"cosine\",\n",
    "            \"max_elements\": 10 ^ 10,\n",
    "            \"ef_construction\": 200,\n",
    "            \"ef\": 15,\n",
    "            \"M\": 8,\n",
    "            \"allow_replace_deleted\": True,\n",
    "            \"num_threads\": 5,\n",
    "        }\n",
    "        # None: {},\n",
    "    }\n",
    ")"
   ]
  },
  {
   "cell_type": "code",
   "execution_count": 96,
   "metadata": {},
   "outputs": [
    {
     "ename": "RuntimeError",
     "evalue": "The number of elements exceeds the specified limit",
     "output_type": "error",
     "traceback": [
      "\u001b[0;31m---------------------------------------------------------------------------\u001b[0m",
      "\u001b[0;31mRuntimeError\u001b[0m                              Traceback (most recent call last)",
      "Cell \u001b[0;32mIn[96], line 1\u001b[0m\n\u001b[0;32m----> 1\u001b[0m db\u001b[39m.\u001b[39;49mindex(dl)\n",
      "File \u001b[0;32m~/.conda/envs/energizer/lib/python3.9/site-packages/docarray/index/backends/hnswlib.py:227\u001b[0m, in \u001b[0;36mHnswDocumentIndex.index\u001b[0;34m(self, docs, **kwargs)\u001b[0m\n\u001b[1;32m    225\u001b[0m     data_np \u001b[39m=\u001b[39m [\u001b[39mself\u001b[39m\u001b[39m.\u001b[39m_to_numpy(arr) \u001b[39mfor\u001b[39;00m arr \u001b[39min\u001b[39;00m data]\n\u001b[1;32m    226\u001b[0m     data_stacked \u001b[39m=\u001b[39m np\u001b[39m.\u001b[39mstack(data_np)\n\u001b[0;32m--> 227\u001b[0m     index\u001b[39m.\u001b[39;49madd_items(data_stacked, ids\u001b[39m=\u001b[39;49mhashed_ids)\n\u001b[1;32m    228\u001b[0m     index\u001b[39m.\u001b[39msave_index(\u001b[39mself\u001b[39m\u001b[39m.\u001b[39m_hnsw_locations[col_name])\n\u001b[1;32m    230\u001b[0m \u001b[39mself\u001b[39m\u001b[39m.\u001b[39m_send_docs_to_sqlite(docs_validated)\n",
      "\u001b[0;31mRuntimeError\u001b[0m: The number of elements exceeds the specified limit"
     ]
    }
   ],
   "source": [
    "db.index(dl)"
   ]
  },
  {
   "cell_type": "code",
   "execution_count": 43,
   "metadata": {},
   "outputs": [
    {
     "ename": "KeyError",
     "evalue": "'embedding'",
     "output_type": "error",
     "traceback": [
      "\u001b[0;31m---------------------------------------------------------------------------\u001b[0m",
      "\u001b[0;31mKeyError\u001b[0m                                  Traceback (most recent call last)",
      "Cell \u001b[0;32mIn[43], line 1\u001b[0m\n\u001b[0;32m----> 1\u001b[0m db\u001b[39m.\u001b[39;49mfind(dl[\u001b[39m0\u001b[39;49m], search_field\u001b[39m=\u001b[39;49m\u001b[39m\"\u001b[39;49m\u001b[39membedding\u001b[39;49m\u001b[39m\"\u001b[39;49m)\n",
      "File \u001b[0;32m~/.conda/envs/energizer/lib/python3.9/site-packages/docarray/index/abstract.py:420\u001b[0m, in \u001b[0;36mBaseDocIndex.find\u001b[0;34m(self, query, search_field, limit, **kwargs)\u001b[0m\n\u001b[1;32m    418\u001b[0m     query_vec \u001b[39m=\u001b[39m query\n\u001b[1;32m    419\u001b[0m query_vec_np \u001b[39m=\u001b[39m \u001b[39mself\u001b[39m\u001b[39m.\u001b[39m_to_numpy(query_vec)\n\u001b[0;32m--> 420\u001b[0m docs, scores \u001b[39m=\u001b[39m \u001b[39mself\u001b[39;49m\u001b[39m.\u001b[39;49m_find(\n\u001b[1;32m    421\u001b[0m     query_vec_np, search_field\u001b[39m=\u001b[39;49msearch_field, limit\u001b[39m=\u001b[39;49mlimit, \u001b[39m*\u001b[39;49m\u001b[39m*\u001b[39;49mkwargs\n\u001b[1;32m    422\u001b[0m )\n\u001b[1;32m    424\u001b[0m \u001b[39mif\u001b[39;00m \u001b[39misinstance\u001b[39m(docs, List):\n\u001b[1;32m    425\u001b[0m     docs \u001b[39m=\u001b[39m \u001b[39mself\u001b[39m\u001b[39m.\u001b[39m_dict_list_to_docarray(docs)\n",
      "File \u001b[0;32m~/.conda/envs/energizer/lib/python3.9/site-packages/docarray/index/backends/hnswlib.py:298\u001b[0m, in \u001b[0;36mHnswDocumentIndex._find\u001b[0;34m(self, query, limit, search_field)\u001b[0m\n\u001b[1;32m    294\u001b[0m \u001b[39mdef\u001b[39;00m \u001b[39m_find\u001b[39m(\n\u001b[1;32m    295\u001b[0m     \u001b[39mself\u001b[39m, query: np\u001b[39m.\u001b[39mndarray, limit: \u001b[39mint\u001b[39m, search_field: \u001b[39mstr\u001b[39m \u001b[39m=\u001b[39m \u001b[39m'\u001b[39m\u001b[39m'\u001b[39m\n\u001b[1;32m    296\u001b[0m ) \u001b[39m-\u001b[39m\u001b[39m>\u001b[39m _FindResult:\n\u001b[1;32m    297\u001b[0m     query_batched \u001b[39m=\u001b[39m np\u001b[39m.\u001b[39mexpand_dims(query, axis\u001b[39m=\u001b[39m\u001b[39m0\u001b[39m)\n\u001b[0;32m--> 298\u001b[0m     docs, scores \u001b[39m=\u001b[39m \u001b[39mself\u001b[39;49m\u001b[39m.\u001b[39;49m_find_batched(\n\u001b[1;32m    299\u001b[0m         queries\u001b[39m=\u001b[39;49mquery_batched, limit\u001b[39m=\u001b[39;49mlimit, search_field\u001b[39m=\u001b[39;49msearch_field\n\u001b[1;32m    300\u001b[0m     )\n\u001b[1;32m    301\u001b[0m     \u001b[39mreturn\u001b[39;00m _FindResult(\n\u001b[1;32m    302\u001b[0m         documents\u001b[39m=\u001b[39mdocs[\u001b[39m0\u001b[39m], scores\u001b[39m=\u001b[39mNdArray\u001b[39m.\u001b[39m_docarray_from_native(scores[\u001b[39m0\u001b[39m])\n\u001b[1;32m    303\u001b[0m     )\n",
      "File \u001b[0;32m~/.conda/envs/energizer/lib/python3.9/site-packages/docarray/index/backends/hnswlib.py:284\u001b[0m, in \u001b[0;36mHnswDocumentIndex._find_batched\u001b[0;34m(self, queries, limit, search_field)\u001b[0m\n\u001b[1;32m    278\u001b[0m \u001b[39mdef\u001b[39;00m \u001b[39m_find_batched\u001b[39m(\n\u001b[1;32m    279\u001b[0m     \u001b[39mself\u001b[39m,\n\u001b[1;32m    280\u001b[0m     queries: np\u001b[39m.\u001b[39mndarray,\n\u001b[1;32m    281\u001b[0m     limit: \u001b[39mint\u001b[39m,\n\u001b[1;32m    282\u001b[0m     search_field: \u001b[39mstr\u001b[39m \u001b[39m=\u001b[39m \u001b[39m'\u001b[39m\u001b[39m'\u001b[39m,\n\u001b[1;32m    283\u001b[0m ) \u001b[39m-\u001b[39m\u001b[39m>\u001b[39m _FindResultBatched:\n\u001b[0;32m--> 284\u001b[0m     index \u001b[39m=\u001b[39m \u001b[39mself\u001b[39;49m\u001b[39m.\u001b[39;49m_hnsw_indices[search_field]\n\u001b[1;32m    285\u001b[0m     labels, distances \u001b[39m=\u001b[39m index\u001b[39m.\u001b[39mknn_query(queries, k\u001b[39m=\u001b[39mlimit)\n\u001b[1;32m    286\u001b[0m     result_das \u001b[39m=\u001b[39m [\n\u001b[1;32m    287\u001b[0m         \u001b[39mself\u001b[39m\u001b[39m.\u001b[39m_get_docs_sqlite_hashed_id(\n\u001b[1;32m    288\u001b[0m             ids_per_query\u001b[39m.\u001b[39mtolist(),\n\u001b[1;32m    289\u001b[0m         )\n\u001b[1;32m    290\u001b[0m         \u001b[39mfor\u001b[39;00m ids_per_query \u001b[39min\u001b[39;00m labels\n\u001b[1;32m    291\u001b[0m     ]\n",
      "\u001b[0;31mKeyError\u001b[0m: 'embedding'"
     ]
    }
   ],
   "source": [
    "db.find(dl[0], search_field=\"embedding\")"
   ]
  },
  {
   "cell_type": "code",
   "execution_count": null,
   "metadata": {},
   "outputs": [],
   "source": [
    "datastore = PandasDatastoreForSequenceClassification()\n",
    "datastore.from_dataset_dict(dataset_dict=ds_dict, tokenizer=tokenizer)"
   ]
  },
  {
   "cell_type": "code",
   "execution_count": null,
   "metadata": {},
   "outputs": [],
   "source": [
    "datastore.input_names, datastore.target_name, datastore.on_cpu"
   ]
  },
  {
   "cell_type": "code",
   "execution_count": null,
   "metadata": {},
   "outputs": [],
   "source": [
    "datastore.hparams"
   ]
  },
  {
   "cell_type": "code",
   "execution_count": null,
   "metadata": {},
   "outputs": [],
   "source": [
    "datastore.label_distribution()"
   ]
  },
  {
   "cell_type": "code",
   "execution_count": null,
   "metadata": {},
   "outputs": [],
   "source": [
    "datastore.labels"
   ]
  },
  {
   "cell_type": "code",
   "execution_count": null,
   "metadata": {},
   "outputs": [],
   "source": [
    "datastore.label2id"
   ]
  },
  {
   "cell_type": "code",
   "execution_count": null,
   "metadata": {},
   "outputs": [],
   "source": [
    "datastore.train_dataset()"
   ]
  },
  {
   "cell_type": "code",
   "execution_count": null,
   "metadata": {},
   "outputs": [],
   "source": [
    "datastore.label(indices=[0, 1], round=1, validation_perc=0.5)"
   ]
  },
  {
   "cell_type": "code",
   "execution_count": null,
   "metadata": {},
   "outputs": [],
   "source": [
    "datastore.train_dataset(), datastore.train_dataset(0)"
   ]
  },
  {
   "cell_type": "code",
   "execution_count": null,
   "metadata": {},
   "outputs": [],
   "source": [
    "datastore.pool_dataset(), datastore.pool_dataset(0)"
   ]
  },
  {
   "cell_type": "code",
   "execution_count": null,
   "metadata": {},
   "outputs": [],
   "source": [
    "datastore.validation_dataset(), datastore.validation_dataset(0)"
   ]
  },
  {
   "cell_type": "code",
   "execution_count": null,
   "metadata": {},
   "outputs": [],
   "source": [
    "datastore.test_dataset()"
   ]
  },
  {
   "cell_type": "code",
   "execution_count": null,
   "metadata": {},
   "outputs": [],
   "source": [
    "datastore.show_batch()"
   ]
  },
  {
   "cell_type": "code",
   "execution_count": null,
   "metadata": {},
   "outputs": [],
   "source": [
    "batch = datastore.show_batch()"
   ]
  },
  {
   "cell_type": "code",
   "execution_count": null,
   "metadata": {},
   "outputs": [],
   "source": [
    "from lightning.fabric import Fabric"
   ]
  },
  {
   "cell_type": "code",
   "execution_count": null,
   "metadata": {},
   "outputs": [],
   "source": [
    "fabric = Fabric(accelerator=\"gpu\")"
   ]
  },
  {
   "cell_type": "code",
   "execution_count": null,
   "metadata": {},
   "outputs": [],
   "source": [
    "fabric.to_device(batch)"
   ]
  },
  {
   "cell_type": "code",
   "execution_count": null,
   "metadata": {},
   "outputs": [],
   "source": []
  }
 ],
 "metadata": {
  "kernelspec": {
   "display_name": "energizer",
   "language": "python",
   "name": "python3"
  },
  "language_info": {
   "codemirror_mode": {
    "name": "ipython",
    "version": 3
   },
   "file_extension": ".py",
   "mimetype": "text/x-python",
   "name": "python",
   "nbconvert_exporter": "python",
   "pygments_lexer": "ipython3",
   "version": "3.9.16"
  },
  "orig_nbformat": 4
 },
 "nbformat": 4,
 "nbformat_minor": 2
}
