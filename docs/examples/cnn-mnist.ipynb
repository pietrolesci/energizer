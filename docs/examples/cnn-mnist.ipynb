{
 "cells": [
  {
   "cell_type": "markdown",
   "metadata": {},
   "source": [
    "## Imports"
   ]
  },
  {
   "cell_type": "code",
   "execution_count": 1,
   "metadata": {},
   "outputs": [],
   "source": [
    "import os\n",
    "from typing import Tuple, Union\n",
    "\n",
    "import matplotlib.pyplot as plt\n",
    "import numpy as np\n",
    "import pandas as pd\n",
    "import seaborn as sns\n",
    "import torch\n",
    "import torch.nn.functional as F\n",
    "from pytorch_lightning import LightningModule, seed_everything\n",
    "from torch import Tensor, nn\n",
    "from torch.utils.data import DataLoader, random_split\n",
    "from torchmetrics import Accuracy, F1Score, MetricCollection, Precision, Recall\n",
    "from torchvision import transforms\n",
    "from torchvision.datasets import MNIST\n",
    "\n",
    "from energizer import Trainer\n",
    "from energizer.query_strategies import (\n",
    "    BALDStrategy,\n",
    "    EntropyStrategy,\n",
    "    LeastConfidenceStrategy,\n",
    "    MarginStrategy,\n",
    "    RandomStrategy,\n",
    ")"
   ]
  },
  {
   "cell_type": "markdown",
   "metadata": {},
   "source": [
    "## Data preparation\n",
    "\n",
    "Load and preprocess data, and prepare dataloaders"
   ]
  },
  {
   "cell_type": "code",
   "execution_count": 2,
   "metadata": {},
   "outputs": [],
   "source": [
    "data_dir = \"./data\"\n",
    "\n",
    "preprocessing_pipe = transforms.Compose(\n",
    "    [\n",
    "        transforms.ToTensor(),\n",
    "        transforms.Normalize((0.1307,), (0.3081,)),\n",
    "    ]\n",
    ")\n",
    "\n",
    "# create train and test sets\n",
    "train_set = MNIST(data_dir, train=True, download=True, transform=preprocessing_pipe)\n",
    "test_set = MNIST(data_dir, train=False, download=True, transform=preprocessing_pipe)\n",
    "\n",
    "# train-val split to create a validation set\n",
    "train_set, val_set = random_split(train_set, [55000, 5000])\n",
    "\n",
    "# create dataloaders\n",
    "batch_size = 32\n",
    "eval_batch_size = 128  # this is use when evaluating on the pool too\n",
    "num_workers = os.cpu_count()\n",
    "\n",
    "# dataloaders\n",
    "train_dl = DataLoader(train_set, batch_size=batch_size, num_workers=num_workers)\n",
    "val_dl = DataLoader(val_set, batch_size=eval_batch_size, num_workers=num_workers)\n",
    "test_dl = DataLoader(test_set, batch_size=eval_batch_size, num_workers=num_workers)"
   ]
  },
  {
   "cell_type": "markdown",
   "metadata": {},
   "source": [
    "## Model definition\n",
    "Define the model"
   ]
  },
  {
   "cell_type": "code",
   "execution_count": 3,
   "metadata": {},
   "outputs": [],
   "source": [
    "class MNISTCNNModel(LightningModule):\n",
    "    def __init__(self) -> None:\n",
    "        \"\"\"Here we define the model architecture and the metrics.\"\"\"\n",
    "        super().__init__()\n",
    "\n",
    "        # create the CNN\n",
    "        self.model = nn.Sequential(\n",
    "            nn.Conv2d(1, 32, kernel_size=5),\n",
    "            nn.ReLU(),\n",
    "            nn.MaxPool2d(kernel_size=2),\n",
    "            nn.Dropout2d(),\n",
    "            nn.Conv2d(32, 64, kernel_size=5),\n",
    "            nn.ReLU(),\n",
    "            nn.MaxPool2d(kernel_size=2),\n",
    "            nn.Dropout2d(),\n",
    "            nn.Flatten(),\n",
    "            nn.Linear(1024, 128),\n",
    "            nn.Dropout(),\n",
    "            nn.Linear(128, self.num_classes),\n",
    "        )\n",
    "\n",
    "        # implement metrics\n",
    "        for stage in (\"train\", \"val\", \"test\"):\n",
    "            metrics = MetricCollection(\n",
    "                {\n",
    "                    \"accuracy\": Accuracy(),\n",
    "                    \"precision_macro\": Precision(\n",
    "                        num_classes=self.num_classes, average=\"macro\"\n",
    "                    ),\n",
    "                    \"recall_macro\": Recall(\n",
    "                        num_classes=self.num_classes, average=\"macro\"\n",
    "                    ),\n",
    "                    \"f1_macro\": F1Score(\n",
    "                        num_classes=self.num_classes, average=\"macro\"\n",
    "                    ),\n",
    "                    \"f1_micro\": F1Score(\n",
    "                        num_classes=self.num_classes, average=\"micro\"\n",
    "                    ),\n",
    "                }\n",
    "            )\n",
    "            setattr(self, f\"{stage}_metrics\", metrics)\n",
    "\n",
    "    @property\n",
    "    def num_classes(self) -> int:\n",
    "        \"\"\"This is very tailored to MNIST, so hard-code this propoerty.\"\"\"\n",
    "        return 10\n",
    "\n",
    "    def get_inputs_from_batch(self, batch: Tuple[Tensor, Tensor]) -> Tensor:\n",
    "        return batch[0]\n",
    "\n",
    "    def forward(self, x: Tensor) -> Tensor:\n",
    "        return self.model(x)\n",
    "\n",
    "    def common_step(self, batch: Tuple[Tensor, Tensor], stage: str) -> Tensor:\n",
    "        \"\"\"For convenience define a common step.\"\"\"\n",
    "\n",
    "        # forward pass\n",
    "        x, y = batch\n",
    "        logits = self(x)\n",
    "\n",
    "        # metrics\n",
    "        loss = F.cross_entropy(logits, y)\n",
    "        metrics = getattr(self, f\"{stage}_metrics\")(logits, y)\n",
    "\n",
    "        # log\n",
    "        self.log(\"loss\", loss, on_step=False, on_epoch=True, prog_bar=False)\n",
    "        self.log_dict(metrics, on_step=False, on_epoch=True, prog_bar=False)\n",
    "\n",
    "        return loss\n",
    "\n",
    "    def training_step(self, batch: Tuple[Tensor, Tensor], batch_idx: int) -> Tensor:\n",
    "        return self.common_step(batch, \"train\")\n",
    "\n",
    "    def validation_step(\n",
    "        self, batch: Tuple[Tensor, Tensor], batch_idx: int\n",
    "    ) -> Tensor:\n",
    "        return self.common_step(batch, \"val\")\n",
    "\n",
    "    def test_step(self, batch: Tuple[Tensor, Tensor], batch_idx: int) -> Tensor:\n",
    "        return self.common_step(batch, \"test\")\n",
    "\n",
    "    def configure_optimizers(self) -> None:\n",
    "        return torch.optim.SGD(self.parameters(), lr=0.001)"
   ]
  },
  {
   "cell_type": "markdown",
   "metadata": {},
   "source": [
    "## Active fit"
   ]
  },
  {
   "cell_type": "markdown",
   "metadata": {},
   "source": [
    "Instantiate model"
   ]
  },
  {
   "cell_type": "code",
   "execution_count": 4,
   "metadata": {},
   "outputs": [],
   "source": [
    "model = MNISTCNNModel()"
   ]
  },
  {
   "cell_type": "markdown",
   "metadata": {},
   "source": [
    "!!! info \"Batch unpacking\"\n",
    "    When passing a model to build a strategy, internally a `deepcopy` will be created. This is done to avoid modifying the model state and passing it around when trying other strategies. It avoids messing up states."
   ]
  },
  {
   "cell_type": "code",
   "execution_count": 5,
   "metadata": {},
   "outputs": [],
   "source": [
    "strategies = {\n",
    "    \"random\": RandomStrategy(model),\n",
    "    \"leastconfidence\": LeastConfidenceStrategy(model),\n",
    "    \"margin\": MarginStrategy(model),\n",
    "    \"entropy\": EntropyStrategy(model),\n",
    "    \"bald\": BALDStrategy(model),\n",
    "}"
   ]
  },
  {
   "cell_type": "markdown",
   "metadata": {},
   "source": [
    "For clarity let's pack the trainer kwargs in a dictionary"
   ]
  },
  {
   "cell_type": "code",
   "execution_count": 6,
   "metadata": {},
   "outputs": [],
   "source": [
    "trainer_kwargs = {\n",
    "    \"query_size\": 10,  # new instances will be queried at each iteration\n",
    "    \"max_epochs\": 3,  # the underlying model will be fit for 3 epochs\n",
    "    \"max_labelling_epochs\": 2,  # how many times to run the active learning loop\n",
    "    \"accelerator\": \"cpu\",  # use the gpu\n",
    "    \"test_after_labelling\": True,  # since we have a test set, we test after each labelling iteration\n",
    "    \"limit_val_batches\": 0,  # do not validate\n",
    "    \"log_every_n_steps\": 1,  # we will have a few batches while training, so log on each\n",
    "}\n",
    "\n",
    "results_dict = {}"
   ]
  },
  {
   "cell_type": "markdown",
   "metadata": {},
   "source": [
    "Run experiments"
   ]
  },
  {
   "cell_type": "code",
   "execution_count": 7,
   "metadata": {},
   "outputs": [
    {
     "name": "stderr",
     "output_type": "stream",
     "text": [
      "Global seed set to 42\n",
      "GPU available: True (mps), used: False\n",
      "TPU available: False, using: 0 TPU cores\n",
      "IPU available: False, using: 0 IPUs\n",
      "HPU available: False, using: 0 HPUs\n",
      "/Users/lescipi/miniconda3/envs/energizer-dev/lib/python3.9/site-packages/pytorch_lightning/trainer/trainer.py:1789: UserWarning: MPS available but not used. Set `accelerator` and `devices` using `Trainer(accelerator='mps', devices=1)`.\n",
      "  rank_zero_warn(\n",
      "\u001b[1;32m[2022-09-26 17:46:39] energizer/INFO\u001b[0m ~ \u001b[1;33mtrainer:269\u001b[0m$ \u001b[37mTrainer: trainer active_fit stage\u001b[0m\n",
      "\n",
      "  | Name          | Type             | Params\n",
      "---------------------------------------------------\n",
      "0 | model         | Sequential       | 184 K \n",
      "1 | train_metrics | MetricCollection | 0     \n",
      "2 | val_metrics   | MetricCollection | 0     \n",
      "3 | test_metrics  | MetricCollection | 0     \n",
      "---------------------------------------------------\n",
      "184 K     Trainable params\n",
      "0         Non-trainable params\n",
      "184 K     Total params\n",
      "0.738     Total estimated model params size (MB)\n",
      "\u001b[1;36m[2022-09-26 17:46:39] energizer/DEBUG\u001b[0m ~ \u001b[1;33mtrainer:466\u001b[0m$ \u001b[37mUsing `RandomStrategy`\u001b[0m\n"
     ]
    },
    {
     "name": "stdout",
     "output_type": "stream",
     "text": [
      "-------------------------Labelling Iteration 0--------------------------\n"
     ]
    },
    {
     "name": "stderr",
     "output_type": "stream",
     "text": [
      "\u001b[1;36m[2022-09-26 17:46:39] energizer/DEBUG\u001b[0m ~ \u001b[1;33mtrainer:470\u001b[0m$ \u001b[37mUsing underlying `MNISTCNNModel`\u001b[0m\n"
     ]
    },
    {
     "data": {
      "text/html": [
       "<pre style=\"white-space:pre;overflow-x:auto;line-height:normal;font-family:Menlo,'DejaVu Sans Mono',consolas,'Courier New',monospace\">┏━━━━━━━━━━━━━━━━━━━━━━━━━━━┳━━━━━━━━━━━━━━━━━━━━━━━━━━━┓\n",
       "┃<span style=\"font-weight: bold\">        Test metric        </span>┃<span style=\"font-weight: bold\">       DataLoader 0        </span>┃\n",
       "┡━━━━━━━━━━━━━━━━━━━━━━━━━━━╇━━━━━━━━━━━━━━━━━━━━━━━━━━━┩\n",
       "│<span style=\"color: #008080; text-decoration-color: #008080\">         accuracy          </span>│<span style=\"color: #800080; text-decoration-color: #800080\">    0.12139999866485596    </span>│\n",
       "│<span style=\"color: #008080; text-decoration-color: #008080\">         f1_macro          </span>│<span style=\"color: #800080; text-decoration-color: #800080\">    0.05989480018615723    </span>│\n",
       "│<span style=\"color: #008080; text-decoration-color: #008080\">         f1_micro          </span>│<span style=\"color: #800080; text-decoration-color: #800080\">    0.12139999866485596    </span>│\n",
       "│<span style=\"color: #008080; text-decoration-color: #008080\">           loss            </span>│<span style=\"color: #800080; text-decoration-color: #800080\">     2.302485466003418     </span>│\n",
       "│<span style=\"color: #008080; text-decoration-color: #008080\">      precision_macro      </span>│<span style=\"color: #800080; text-decoration-color: #800080\">   0.050614677369594574    </span>│\n",
       "│<span style=\"color: #008080; text-decoration-color: #008080\">       recall_macro        </span>│<span style=\"color: #800080; text-decoration-color: #800080\">    0.1247788593173027     </span>│\n",
       "└───────────────────────────┴───────────────────────────┘\n",
       "</pre>\n"
      ],
      "text/plain": [
       "┏━━━━━━━━━━━━━━━━━━━━━━━━━━━┳━━━━━━━━━━━━━━━━━━━━━━━━━━━┓\n",
       "┃\u001b[1m \u001b[0m\u001b[1m       Test metric       \u001b[0m\u001b[1m \u001b[0m┃\u001b[1m \u001b[0m\u001b[1m      DataLoader 0       \u001b[0m\u001b[1m \u001b[0m┃\n",
       "┡━━━━━━━━━━━━━━━━━━━━━━━━━━━╇━━━━━━━━━━━━━━━━━━━━━━━━━━━┩\n",
       "│\u001b[36m \u001b[0m\u001b[36m        accuracy         \u001b[0m\u001b[36m \u001b[0m│\u001b[35m \u001b[0m\u001b[35m   0.12139999866485596   \u001b[0m\u001b[35m \u001b[0m│\n",
       "│\u001b[36m \u001b[0m\u001b[36m        f1_macro         \u001b[0m\u001b[36m \u001b[0m│\u001b[35m \u001b[0m\u001b[35m   0.05989480018615723   \u001b[0m\u001b[35m \u001b[0m│\n",
       "│\u001b[36m \u001b[0m\u001b[36m        f1_micro         \u001b[0m\u001b[36m \u001b[0m│\u001b[35m \u001b[0m\u001b[35m   0.12139999866485596   \u001b[0m\u001b[35m \u001b[0m│\n",
       "│\u001b[36m \u001b[0m\u001b[36m          loss           \u001b[0m\u001b[36m \u001b[0m│\u001b[35m \u001b[0m\u001b[35m    2.302485466003418    \u001b[0m\u001b[35m \u001b[0m│\n",
       "│\u001b[36m \u001b[0m\u001b[36m     precision_macro     \u001b[0m\u001b[36m \u001b[0m│\u001b[35m \u001b[0m\u001b[35m  0.050614677369594574   \u001b[0m\u001b[35m \u001b[0m│\n",
       "│\u001b[36m \u001b[0m\u001b[36m      recall_macro       \u001b[0m\u001b[36m \u001b[0m│\u001b[35m \u001b[0m\u001b[35m   0.1247788593173027    \u001b[0m\u001b[35m \u001b[0m│\n",
       "└───────────────────────────┴───────────────────────────┘\n"
      ]
     },
     "metadata": {},
     "output_type": "display_data"
    },
    {
     "name": "stderr",
     "output_type": "stream",
     "text": [
      "\u001b[1;36m[2022-09-26 17:46:41] energizer/DEBUG\u001b[0m ~ \u001b[1;33mtrainer:466\u001b[0m$ \u001b[37mUsing `RandomStrategy`\u001b[0m\n",
      "\u001b[1;32m[2022-09-26 17:46:41] energizer/INFO\u001b[0m ~ \u001b[1;33mactive_learning_loop:193\u001b[0m$ \u001b[37mQueried 10 instance\u001b[0m\n",
      "\u001b[1;32m[2022-09-26 17:46:41] energizer/INFO\u001b[0m ~ \u001b[1;33mactive_learning_loop:281\u001b[0m$ \u001b[37mAnnotated 10 instances\u001b[0m\n",
      "\u001b[1;32m[2022-09-26 17:46:41] energizer/INFO\u001b[0m ~ \u001b[1;33mactive_learning_loop:282\u001b[0m$ \u001b[37mNew data statistics\n",
      "num_pool_batches: 430\n",
      "num_train_batches: 1\n",
      "pool_size: 54990\n",
      "total_data_size: 55000\n",
      "train_size: 10\n",
      "\u001b[0m\n"
     ]
    },
    {
     "name": "stdout",
     "output_type": "stream",
     "text": [
      "-------------------------Labelling Iteration 1--------------------------\n"
     ]
    },
    {
     "name": "stderr",
     "output_type": "stream",
     "text": [
      "\u001b[1;36m[2022-09-26 17:46:41] energizer/DEBUG\u001b[0m ~ \u001b[1;33mtrainer:470\u001b[0m$ \u001b[37mUsing underlying `MNISTCNNModel`\u001b[0m\n",
      "\u001b[1;36m[2022-09-26 17:46:41] energizer/DEBUG\u001b[0m ~ \u001b[1;33mactive_learning_loop:250\u001b[0m$ \u001b[37mMNISTCNNModel state dict has been re-initialized\u001b[0m\n",
      "`Trainer.fit` stopped: `max_epochs=3` reached.\n",
      "\u001b[1;36m[2022-09-26 17:46:46] energizer/DEBUG\u001b[0m ~ \u001b[1;33mtrainer:470\u001b[0m$ \u001b[37mUsing underlying `MNISTCNNModel`\u001b[0m\n"
     ]
    },
    {
     "data": {
      "text/html": [
       "<pre style=\"white-space:pre;overflow-x:auto;line-height:normal;font-family:Menlo,'DejaVu Sans Mono',consolas,'Courier New',monospace\">┏━━━━━━━━━━━━━━━━━━━━━━━━━━━┳━━━━━━━━━━━━━━━━━━━━━━━━━━━┓\n",
       "┃<span style=\"font-weight: bold\">        Test metric        </span>┃<span style=\"font-weight: bold\">       DataLoader 0        </span>┃\n",
       "┡━━━━━━━━━━━━━━━━━━━━━━━━━━━╇━━━━━━━━━━━━━━━━━━━━━━━━━━━┩\n",
       "│<span style=\"color: #008080; text-decoration-color: #008080\">         accuracy          </span>│<span style=\"color: #800080; text-decoration-color: #800080\">    0.12540000677108765    </span>│\n",
       "│<span style=\"color: #008080; text-decoration-color: #008080\">         f1_macro          </span>│<span style=\"color: #800080; text-decoration-color: #800080\">   0.050436750054359436    </span>│\n",
       "│<span style=\"color: #008080; text-decoration-color: #008080\">         f1_micro          </span>│<span style=\"color: #800080; text-decoration-color: #800080\">    0.12540000677108765    </span>│\n",
       "│<span style=\"color: #008080; text-decoration-color: #008080\">           loss            </span>│<span style=\"color: #800080; text-decoration-color: #800080\">     2.302597761154175     </span>│\n",
       "│<span style=\"color: #008080; text-decoration-color: #008080\">      precision_macro      </span>│<span style=\"color: #800080; text-decoration-color: #800080\">   0.033808622509241104    </span>│\n",
       "│<span style=\"color: #008080; text-decoration-color: #008080\">       recall_macro        </span>│<span style=\"color: #800080; text-decoration-color: #800080\">    0.12841922044754028    </span>│\n",
       "└───────────────────────────┴───────────────────────────┘\n",
       "</pre>\n"
      ],
      "text/plain": [
       "┏━━━━━━━━━━━━━━━━━━━━━━━━━━━┳━━━━━━━━━━━━━━━━━━━━━━━━━━━┓\n",
       "┃\u001b[1m \u001b[0m\u001b[1m       Test metric       \u001b[0m\u001b[1m \u001b[0m┃\u001b[1m \u001b[0m\u001b[1m      DataLoader 0       \u001b[0m\u001b[1m \u001b[0m┃\n",
       "┡━━━━━━━━━━━━━━━━━━━━━━━━━━━╇━━━━━━━━━━━━━━━━━━━━━━━━━━━┩\n",
       "│\u001b[36m \u001b[0m\u001b[36m        accuracy         \u001b[0m\u001b[36m \u001b[0m│\u001b[35m \u001b[0m\u001b[35m   0.12540000677108765   \u001b[0m\u001b[35m \u001b[0m│\n",
       "│\u001b[36m \u001b[0m\u001b[36m        f1_macro         \u001b[0m\u001b[36m \u001b[0m│\u001b[35m \u001b[0m\u001b[35m  0.050436750054359436   \u001b[0m\u001b[35m \u001b[0m│\n",
       "│\u001b[36m \u001b[0m\u001b[36m        f1_micro         \u001b[0m\u001b[36m \u001b[0m│\u001b[35m \u001b[0m\u001b[35m   0.12540000677108765   \u001b[0m\u001b[35m \u001b[0m│\n",
       "│\u001b[36m \u001b[0m\u001b[36m          loss           \u001b[0m\u001b[36m \u001b[0m│\u001b[35m \u001b[0m\u001b[35m    2.302597761154175    \u001b[0m\u001b[35m \u001b[0m│\n",
       "│\u001b[36m \u001b[0m\u001b[36m     precision_macro     \u001b[0m\u001b[36m \u001b[0m│\u001b[35m \u001b[0m\u001b[35m  0.033808622509241104   \u001b[0m\u001b[35m \u001b[0m│\n",
       "│\u001b[36m \u001b[0m\u001b[36m      recall_macro       \u001b[0m\u001b[36m \u001b[0m│\u001b[35m \u001b[0m\u001b[35m   0.12841922044754028   \u001b[0m\u001b[35m \u001b[0m│\n",
       "└───────────────────────────┴───────────────────────────┘\n"
      ]
     },
     "metadata": {},
     "output_type": "display_data"
    },
    {
     "name": "stderr",
     "output_type": "stream",
     "text": [
      "\u001b[1;36m[2022-09-26 17:46:49] energizer/DEBUG\u001b[0m ~ \u001b[1;33mtrainer:466\u001b[0m$ \u001b[37mUsing `RandomStrategy`\u001b[0m\n",
      "\u001b[1;32m[2022-09-26 17:46:49] energizer/INFO\u001b[0m ~ \u001b[1;33mactive_learning_loop:193\u001b[0m$ \u001b[37mQueried 10 instance\u001b[0m\n",
      "\u001b[1;32m[2022-09-26 17:46:49] energizer/INFO\u001b[0m ~ \u001b[1;33mactive_learning_loop:281\u001b[0m$ \u001b[37mAnnotated 10 instances\u001b[0m\n",
      "\u001b[1;32m[2022-09-26 17:46:49] energizer/INFO\u001b[0m ~ \u001b[1;33mactive_learning_loop:282\u001b[0m$ \u001b[37mNew data statistics\n",
      "num_pool_batches: 430\n",
      "num_train_batches: 1\n",
      "pool_size: 54980\n",
      "total_data_size: 55000\n",
      "train_size: 20\n",
      "\u001b[0m\n",
      "\u001b[1;36m[2022-09-26 17:46:49] energizer/DEBUG\u001b[0m ~ \u001b[1;33mtrainer:470\u001b[0m$ \u001b[37mUsing underlying `MNISTCNNModel`\u001b[0m\n",
      "\u001b[1;36m[2022-09-26 17:46:49] energizer/DEBUG\u001b[0m ~ \u001b[1;33mactive_learning_loop:250\u001b[0m$ \u001b[37mMNISTCNNModel state dict has been re-initialized\u001b[0m\n"
     ]
    },
    {
     "name": "stdout",
     "output_type": "stream",
     "text": [
      "-----------------------------Last fit_loop------------------------------\n"
     ]
    },
    {
     "name": "stderr",
     "output_type": "stream",
     "text": [
      "`Trainer.fit` stopped: `max_epochs=3` reached.\n",
      "\u001b[1;36m[2022-09-26 17:46:54] energizer/DEBUG\u001b[0m ~ \u001b[1;33mtrainer:470\u001b[0m$ \u001b[37mUsing underlying `MNISTCNNModel`\u001b[0m\n"
     ]
    },
    {
     "data": {
      "text/html": [
       "<pre style=\"white-space:pre;overflow-x:auto;line-height:normal;font-family:Menlo,'DejaVu Sans Mono',consolas,'Courier New',monospace\">┏━━━━━━━━━━━━━━━━━━━━━━━━━━━┳━━━━━━━━━━━━━━━━━━━━━━━━━━━┓\n",
       "┃<span style=\"font-weight: bold\">        Test metric        </span>┃<span style=\"font-weight: bold\">       DataLoader 0        </span>┃\n",
       "┡━━━━━━━━━━━━━━━━━━━━━━━━━━━╇━━━━━━━━━━━━━━━━━━━━━━━━━━━┩\n",
       "│<span style=\"color: #008080; text-decoration-color: #008080\">         accuracy          </span>│<span style=\"color: #800080; text-decoration-color: #800080\">    0.1378999948501587     </span>│\n",
       "│<span style=\"color: #008080; text-decoration-color: #008080\">         f1_macro          </span>│<span style=\"color: #800080; text-decoration-color: #800080\">    0.06494041532278061    </span>│\n",
       "│<span style=\"color: #008080; text-decoration-color: #008080\">         f1_micro          </span>│<span style=\"color: #800080; text-decoration-color: #800080\">    0.1378999948501587     </span>│\n",
       "│<span style=\"color: #008080; text-decoration-color: #008080\">           loss            </span>│<span style=\"color: #800080; text-decoration-color: #800080\">     2.301481008529663     </span>│\n",
       "│<span style=\"color: #008080; text-decoration-color: #008080\">      precision_macro      </span>│<span style=\"color: #800080; text-decoration-color: #800080\">   0.044325053691864014    </span>│\n",
       "│<span style=\"color: #008080; text-decoration-color: #008080\">       recall_macro        </span>│<span style=\"color: #800080; text-decoration-color: #800080\">    0.1415809839963913     </span>│\n",
       "└───────────────────────────┴───────────────────────────┘\n",
       "</pre>\n"
      ],
      "text/plain": [
       "┏━━━━━━━━━━━━━━━━━━━━━━━━━━━┳━━━━━━━━━━━━━━━━━━━━━━━━━━━┓\n",
       "┃\u001b[1m \u001b[0m\u001b[1m       Test metric       \u001b[0m\u001b[1m \u001b[0m┃\u001b[1m \u001b[0m\u001b[1m      DataLoader 0       \u001b[0m\u001b[1m \u001b[0m┃\n",
       "┡━━━━━━━━━━━━━━━━━━━━━━━━━━━╇━━━━━━━━━━━━━━━━━━━━━━━━━━━┩\n",
       "│\u001b[36m \u001b[0m\u001b[36m        accuracy         \u001b[0m\u001b[36m \u001b[0m│\u001b[35m \u001b[0m\u001b[35m   0.1378999948501587    \u001b[0m\u001b[35m \u001b[0m│\n",
       "│\u001b[36m \u001b[0m\u001b[36m        f1_macro         \u001b[0m\u001b[36m \u001b[0m│\u001b[35m \u001b[0m\u001b[35m   0.06494041532278061   \u001b[0m\u001b[35m \u001b[0m│\n",
       "│\u001b[36m \u001b[0m\u001b[36m        f1_micro         \u001b[0m\u001b[36m \u001b[0m│\u001b[35m \u001b[0m\u001b[35m   0.1378999948501587    \u001b[0m\u001b[35m \u001b[0m│\n",
       "│\u001b[36m \u001b[0m\u001b[36m          loss           \u001b[0m\u001b[36m \u001b[0m│\u001b[35m \u001b[0m\u001b[35m    2.301481008529663    \u001b[0m\u001b[35m \u001b[0m│\n",
       "│\u001b[36m \u001b[0m\u001b[36m     precision_macro     \u001b[0m\u001b[36m \u001b[0m│\u001b[35m \u001b[0m\u001b[35m  0.044325053691864014   \u001b[0m\u001b[35m \u001b[0m│\n",
       "│\u001b[36m \u001b[0m\u001b[36m      recall_macro       \u001b[0m\u001b[36m \u001b[0m│\u001b[35m \u001b[0m\u001b[35m   0.1415809839963913    \u001b[0m\u001b[35m \u001b[0m│\n",
       "└───────────────────────────┴───────────────────────────┘\n"
      ]
     },
     "metadata": {},
     "output_type": "display_data"
    },
    {
     "name": "stderr",
     "output_type": "stream",
     "text": [
      "\u001b[1;36m[2022-09-26 17:46:57] energizer/DEBUG\u001b[0m ~ \u001b[1;33mtrainer:466\u001b[0m$ \u001b[37mUsing `RandomStrategy`\u001b[0m\n",
      "Global seed set to 42\n",
      "GPU available: True (mps), used: False\n",
      "TPU available: False, using: 0 TPU cores\n",
      "IPU available: False, using: 0 IPUs\n",
      "HPU available: False, using: 0 HPUs\n",
      "/Users/lescipi/miniconda3/envs/energizer-dev/lib/python3.9/site-packages/pytorch_lightning/trainer/trainer.py:1789: UserWarning: MPS available but not used. Set `accelerator` and `devices` using `Trainer(accelerator='mps', devices=1)`.\n",
      "  rank_zero_warn(\n",
      "\u001b[1;32m[2022-09-26 17:46:58] energizer/INFO\u001b[0m ~ \u001b[1;33mtrainer:269\u001b[0m$ \u001b[37mTrainer: trainer active_fit stage\u001b[0m\n",
      "\n",
      "  | Name          | Type             | Params\n",
      "---------------------------------------------------\n",
      "0 | model         | Sequential       | 184 K \n",
      "1 | train_metrics | MetricCollection | 0     \n",
      "2 | val_metrics   | MetricCollection | 0     \n",
      "3 | test_metrics  | MetricCollection | 0     \n",
      "---------------------------------------------------\n",
      "184 K     Trainable params\n",
      "0         Non-trainable params\n",
      "184 K     Total params\n",
      "0.738     Total estimated model params size (MB)\n",
      "\u001b[1;36m[2022-09-26 17:46:58] energizer/DEBUG\u001b[0m ~ \u001b[1;33mtrainer:466\u001b[0m$ \u001b[37mUsing `LeastConfidenceStrategy`\u001b[0m\n"
     ]
    },
    {
     "name": "stdout",
     "output_type": "stream",
     "text": [
      "-------------------------Labelling Iteration 0--------------------------\n"
     ]
    },
    {
     "name": "stderr",
     "output_type": "stream",
     "text": [
      "\u001b[1;36m[2022-09-26 17:46:58] energizer/DEBUG\u001b[0m ~ \u001b[1;33mtrainer:470\u001b[0m$ \u001b[37mUsing underlying `MNISTCNNModel`\u001b[0m\n"
     ]
    },
    {
     "data": {
      "text/html": [
       "<pre style=\"white-space:pre;overflow-x:auto;line-height:normal;font-family:Menlo,'DejaVu Sans Mono',consolas,'Courier New',monospace\">┏━━━━━━━━━━━━━━━━━━━━━━━━━━━┳━━━━━━━━━━━━━━━━━━━━━━━━━━━┓\n",
       "┃<span style=\"font-weight: bold\">        Test metric        </span>┃<span style=\"font-weight: bold\">       DataLoader 0        </span>┃\n",
       "┡━━━━━━━━━━━━━━━━━━━━━━━━━━━╇━━━━━━━━━━━━━━━━━━━━━━━━━━━┩\n",
       "│<span style=\"color: #008080; text-decoration-color: #008080\">         accuracy          </span>│<span style=\"color: #800080; text-decoration-color: #800080\">    0.12139999866485596    </span>│\n",
       "│<span style=\"color: #008080; text-decoration-color: #008080\">         f1_macro          </span>│<span style=\"color: #800080; text-decoration-color: #800080\">    0.05989480018615723    </span>│\n",
       "│<span style=\"color: #008080; text-decoration-color: #008080\">         f1_micro          </span>│<span style=\"color: #800080; text-decoration-color: #800080\">    0.12139999866485596    </span>│\n",
       "│<span style=\"color: #008080; text-decoration-color: #008080\">           loss            </span>│<span style=\"color: #800080; text-decoration-color: #800080\">     2.302485466003418     </span>│\n",
       "│<span style=\"color: #008080; text-decoration-color: #008080\">      precision_macro      </span>│<span style=\"color: #800080; text-decoration-color: #800080\">   0.050614677369594574    </span>│\n",
       "│<span style=\"color: #008080; text-decoration-color: #008080\">       recall_macro        </span>│<span style=\"color: #800080; text-decoration-color: #800080\">    0.1247788593173027     </span>│\n",
       "└───────────────────────────┴───────────────────────────┘\n",
       "</pre>\n"
      ],
      "text/plain": [
       "┏━━━━━━━━━━━━━━━━━━━━━━━━━━━┳━━━━━━━━━━━━━━━━━━━━━━━━━━━┓\n",
       "┃\u001b[1m \u001b[0m\u001b[1m       Test metric       \u001b[0m\u001b[1m \u001b[0m┃\u001b[1m \u001b[0m\u001b[1m      DataLoader 0       \u001b[0m\u001b[1m \u001b[0m┃\n",
       "┡━━━━━━━━━━━━━━━━━━━━━━━━━━━╇━━━━━━━━━━━━━━━━━━━━━━━━━━━┩\n",
       "│\u001b[36m \u001b[0m\u001b[36m        accuracy         \u001b[0m\u001b[36m \u001b[0m│\u001b[35m \u001b[0m\u001b[35m   0.12139999866485596   \u001b[0m\u001b[35m \u001b[0m│\n",
       "│\u001b[36m \u001b[0m\u001b[36m        f1_macro         \u001b[0m\u001b[36m \u001b[0m│\u001b[35m \u001b[0m\u001b[35m   0.05989480018615723   \u001b[0m\u001b[35m \u001b[0m│\n",
       "│\u001b[36m \u001b[0m\u001b[36m        f1_micro         \u001b[0m\u001b[36m \u001b[0m│\u001b[35m \u001b[0m\u001b[35m   0.12139999866485596   \u001b[0m\u001b[35m \u001b[0m│\n",
       "│\u001b[36m \u001b[0m\u001b[36m          loss           \u001b[0m\u001b[36m \u001b[0m│\u001b[35m \u001b[0m\u001b[35m    2.302485466003418    \u001b[0m\u001b[35m \u001b[0m│\n",
       "│\u001b[36m \u001b[0m\u001b[36m     precision_macro     \u001b[0m\u001b[36m \u001b[0m│\u001b[35m \u001b[0m\u001b[35m  0.050614677369594574   \u001b[0m\u001b[35m \u001b[0m│\n",
       "│\u001b[36m \u001b[0m\u001b[36m      recall_macro       \u001b[0m\u001b[36m \u001b[0m│\u001b[35m \u001b[0m\u001b[35m   0.1247788593173027    \u001b[0m\u001b[35m \u001b[0m│\n",
       "└───────────────────────────┴───────────────────────────┘\n"
      ]
     },
     "metadata": {},
     "output_type": "display_data"
    },
    {
     "name": "stderr",
     "output_type": "stream",
     "text": [
      "\u001b[1;36m[2022-09-26 17:47:00] energizer/DEBUG\u001b[0m ~ \u001b[1;33mtrainer:466\u001b[0m$ \u001b[37mUsing `LeastConfidenceStrategy`\u001b[0m\n",
      "\u001b[1;32m[2022-09-26 17:47:10] energizer/INFO\u001b[0m ~ \u001b[1;33mactive_learning_loop:193\u001b[0m$ \u001b[37mQueried 10 instance\u001b[0m\n",
      "\u001b[1;32m[2022-09-26 17:47:10] energizer/INFO\u001b[0m ~ \u001b[1;33mactive_learning_loop:281\u001b[0m$ \u001b[37mAnnotated 10 instances\u001b[0m\n",
      "\u001b[1;32m[2022-09-26 17:47:10] energizer/INFO\u001b[0m ~ \u001b[1;33mactive_learning_loop:282\u001b[0m$ \u001b[37mNew data statistics\n",
      "num_pool_batches: 430\n",
      "num_train_batches: 1\n",
      "pool_size: 54990\n",
      "total_data_size: 55000\n",
      "train_size: 10\n",
      "\u001b[0m\n"
     ]
    },
    {
     "name": "stdout",
     "output_type": "stream",
     "text": [
      "-------------------------Labelling Iteration 1--------------------------\n"
     ]
    },
    {
     "name": "stderr",
     "output_type": "stream",
     "text": [
      "\u001b[1;36m[2022-09-26 17:47:10] energizer/DEBUG\u001b[0m ~ \u001b[1;33mtrainer:470\u001b[0m$ \u001b[37mUsing underlying `MNISTCNNModel`\u001b[0m\n",
      "\u001b[1;36m[2022-09-26 17:47:10] energizer/DEBUG\u001b[0m ~ \u001b[1;33mactive_learning_loop:250\u001b[0m$ \u001b[37mMNISTCNNModel state dict has been re-initialized\u001b[0m\n",
      "`Trainer.fit` stopped: `max_epochs=3` reached.\n",
      "\u001b[1;36m[2022-09-26 17:47:15] energizer/DEBUG\u001b[0m ~ \u001b[1;33mtrainer:470\u001b[0m$ \u001b[37mUsing underlying `MNISTCNNModel`\u001b[0m\n"
     ]
    },
    {
     "data": {
      "text/html": [
       "<pre style=\"white-space:pre;overflow-x:auto;line-height:normal;font-family:Menlo,'DejaVu Sans Mono',consolas,'Courier New',monospace\">┏━━━━━━━━━━━━━━━━━━━━━━━━━━━┳━━━━━━━━━━━━━━━━━━━━━━━━━━━┓\n",
       "┃<span style=\"font-weight: bold\">        Test metric        </span>┃<span style=\"font-weight: bold\">       DataLoader 0        </span>┃\n",
       "┡━━━━━━━━━━━━━━━━━━━━━━━━━━━╇━━━━━━━━━━━━━━━━━━━━━━━━━━━┩\n",
       "│<span style=\"color: #008080; text-decoration-color: #008080\">         accuracy          </span>│<span style=\"color: #800080; text-decoration-color: #800080\">    0.12439999729394913    </span>│\n",
       "│<span style=\"color: #008080; text-decoration-color: #008080\">         f1_macro          </span>│<span style=\"color: #800080; text-decoration-color: #800080\">    0.05229624733328819    </span>│\n",
       "│<span style=\"color: #008080; text-decoration-color: #008080\">         f1_micro          </span>│<span style=\"color: #800080; text-decoration-color: #800080\">    0.12439999729394913    </span>│\n",
       "│<span style=\"color: #008080; text-decoration-color: #008080\">           loss            </span>│<span style=\"color: #800080; text-decoration-color: #800080\">    2.3006510734558105     </span>│\n",
       "│<span style=\"color: #008080; text-decoration-color: #008080\">      precision_macro      </span>│<span style=\"color: #800080; text-decoration-color: #800080\">    0.03502652049064636    </span>│\n",
       "│<span style=\"color: #008080; text-decoration-color: #008080\">       recall_macro        </span>│<span style=\"color: #800080; text-decoration-color: #800080\">    0.12720972299575806    </span>│\n",
       "└───────────────────────────┴───────────────────────────┘\n",
       "</pre>\n"
      ],
      "text/plain": [
       "┏━━━━━━━━━━━━━━━━━━━━━━━━━━━┳━━━━━━━━━━━━━━━━━━━━━━━━━━━┓\n",
       "┃\u001b[1m \u001b[0m\u001b[1m       Test metric       \u001b[0m\u001b[1m \u001b[0m┃\u001b[1m \u001b[0m\u001b[1m      DataLoader 0       \u001b[0m\u001b[1m \u001b[0m┃\n",
       "┡━━━━━━━━━━━━━━━━━━━━━━━━━━━╇━━━━━━━━━━━━━━━━━━━━━━━━━━━┩\n",
       "│\u001b[36m \u001b[0m\u001b[36m        accuracy         \u001b[0m\u001b[36m \u001b[0m│\u001b[35m \u001b[0m\u001b[35m   0.12439999729394913   \u001b[0m\u001b[35m \u001b[0m│\n",
       "│\u001b[36m \u001b[0m\u001b[36m        f1_macro         \u001b[0m\u001b[36m \u001b[0m│\u001b[35m \u001b[0m\u001b[35m   0.05229624733328819   \u001b[0m\u001b[35m \u001b[0m│\n",
       "│\u001b[36m \u001b[0m\u001b[36m        f1_micro         \u001b[0m\u001b[36m \u001b[0m│\u001b[35m \u001b[0m\u001b[35m   0.12439999729394913   \u001b[0m\u001b[35m \u001b[0m│\n",
       "│\u001b[36m \u001b[0m\u001b[36m          loss           \u001b[0m\u001b[36m \u001b[0m│\u001b[35m \u001b[0m\u001b[35m   2.3006510734558105    \u001b[0m\u001b[35m \u001b[0m│\n",
       "│\u001b[36m \u001b[0m\u001b[36m     precision_macro     \u001b[0m\u001b[36m \u001b[0m│\u001b[35m \u001b[0m\u001b[35m   0.03502652049064636   \u001b[0m\u001b[35m \u001b[0m│\n",
       "│\u001b[36m \u001b[0m\u001b[36m      recall_macro       \u001b[0m\u001b[36m \u001b[0m│\u001b[35m \u001b[0m\u001b[35m   0.12720972299575806   \u001b[0m\u001b[35m \u001b[0m│\n",
       "└───────────────────────────┴───────────────────────────┘\n"
      ]
     },
     "metadata": {},
     "output_type": "display_data"
    },
    {
     "name": "stderr",
     "output_type": "stream",
     "text": [
      "\u001b[1;36m[2022-09-26 17:47:18] energizer/DEBUG\u001b[0m ~ \u001b[1;33mtrainer:466\u001b[0m$ \u001b[37mUsing `LeastConfidenceStrategy`\u001b[0m\n",
      "\u001b[1;32m[2022-09-26 17:47:28] energizer/INFO\u001b[0m ~ \u001b[1;33mactive_learning_loop:193\u001b[0m$ \u001b[37mQueried 10 instance\u001b[0m\n",
      "\u001b[1;32m[2022-09-26 17:47:28] energizer/INFO\u001b[0m ~ \u001b[1;33mactive_learning_loop:281\u001b[0m$ \u001b[37mAnnotated 10 instances\u001b[0m\n",
      "\u001b[1;32m[2022-09-26 17:47:28] energizer/INFO\u001b[0m ~ \u001b[1;33mactive_learning_loop:282\u001b[0m$ \u001b[37mNew data statistics\n",
      "num_pool_batches: 430\n",
      "num_train_batches: 1\n",
      "pool_size: 54980\n",
      "total_data_size: 55000\n",
      "train_size: 20\n",
      "\u001b[0m\n",
      "\u001b[1;36m[2022-09-26 17:47:28] energizer/DEBUG\u001b[0m ~ \u001b[1;33mtrainer:470\u001b[0m$ \u001b[37mUsing underlying `MNISTCNNModel`\u001b[0m\n",
      "\u001b[1;36m[2022-09-26 17:47:28] energizer/DEBUG\u001b[0m ~ \u001b[1;33mactive_learning_loop:250\u001b[0m$ \u001b[37mMNISTCNNModel state dict has been re-initialized\u001b[0m\n"
     ]
    },
    {
     "name": "stdout",
     "output_type": "stream",
     "text": [
      "-----------------------------Last fit_loop------------------------------\n"
     ]
    },
    {
     "name": "stderr",
     "output_type": "stream",
     "text": [
      "`Trainer.fit` stopped: `max_epochs=3` reached.\n",
      "\u001b[1;36m[2022-09-26 17:47:34] energizer/DEBUG\u001b[0m ~ \u001b[1;33mtrainer:470\u001b[0m$ \u001b[37mUsing underlying `MNISTCNNModel`\u001b[0m\n"
     ]
    },
    {
     "data": {
      "text/html": [
       "<pre style=\"white-space:pre;overflow-x:auto;line-height:normal;font-family:Menlo,'DejaVu Sans Mono',consolas,'Courier New',monospace\">┏━━━━━━━━━━━━━━━━━━━━━━━━━━━┳━━━━━━━━━━━━━━━━━━━━━━━━━━━┓\n",
       "┃<span style=\"font-weight: bold\">        Test metric        </span>┃<span style=\"font-weight: bold\">       DataLoader 0        </span>┃\n",
       "┡━━━━━━━━━━━━━━━━━━━━━━━━━━━╇━━━━━━━━━━━━━━━━━━━━━━━━━━━┩\n",
       "│<span style=\"color: #008080; text-decoration-color: #008080\">         accuracy          </span>│<span style=\"color: #800080; text-decoration-color: #800080\">    0.1298999935388565     </span>│\n",
       "│<span style=\"color: #008080; text-decoration-color: #008080\">         f1_macro          </span>│<span style=\"color: #800080; text-decoration-color: #800080\">   0.058535393327474594    </span>│\n",
       "│<span style=\"color: #008080; text-decoration-color: #008080\">         f1_micro          </span>│<span style=\"color: #800080; text-decoration-color: #800080\">    0.1298999935388565     </span>│\n",
       "│<span style=\"color: #008080; text-decoration-color: #008080\">           loss            </span>│<span style=\"color: #800080; text-decoration-color: #800080\">     2.299091100692749     </span>│\n",
       "│<span style=\"color: #008080; text-decoration-color: #008080\">      precision_macro      </span>│<span style=\"color: #800080; text-decoration-color: #800080\">   0.039099011570215225    </span>│\n",
       "│<span style=\"color: #008080; text-decoration-color: #008080\">       recall_macro        </span>│<span style=\"color: #800080; text-decoration-color: #800080\">    0.1328250616788864     </span>│\n",
       "└───────────────────────────┴───────────────────────────┘\n",
       "</pre>\n"
      ],
      "text/plain": [
       "┏━━━━━━━━━━━━━━━━━━━━━━━━━━━┳━━━━━━━━━━━━━━━━━━━━━━━━━━━┓\n",
       "┃\u001b[1m \u001b[0m\u001b[1m       Test metric       \u001b[0m\u001b[1m \u001b[0m┃\u001b[1m \u001b[0m\u001b[1m      DataLoader 0       \u001b[0m\u001b[1m \u001b[0m┃\n",
       "┡━━━━━━━━━━━━━━━━━━━━━━━━━━━╇━━━━━━━━━━━━━━━━━━━━━━━━━━━┩\n",
       "│\u001b[36m \u001b[0m\u001b[36m        accuracy         \u001b[0m\u001b[36m \u001b[0m│\u001b[35m \u001b[0m\u001b[35m   0.1298999935388565    \u001b[0m\u001b[35m \u001b[0m│\n",
       "│\u001b[36m \u001b[0m\u001b[36m        f1_macro         \u001b[0m\u001b[36m \u001b[0m│\u001b[35m \u001b[0m\u001b[35m  0.058535393327474594   \u001b[0m\u001b[35m \u001b[0m│\n",
       "│\u001b[36m \u001b[0m\u001b[36m        f1_micro         \u001b[0m\u001b[36m \u001b[0m│\u001b[35m \u001b[0m\u001b[35m   0.1298999935388565    \u001b[0m\u001b[35m \u001b[0m│\n",
       "│\u001b[36m \u001b[0m\u001b[36m          loss           \u001b[0m\u001b[36m \u001b[0m│\u001b[35m \u001b[0m\u001b[35m    2.299091100692749    \u001b[0m\u001b[35m \u001b[0m│\n",
       "│\u001b[36m \u001b[0m\u001b[36m     precision_macro     \u001b[0m\u001b[36m \u001b[0m│\u001b[35m \u001b[0m\u001b[35m  0.039099011570215225   \u001b[0m\u001b[35m \u001b[0m│\n",
       "│\u001b[36m \u001b[0m\u001b[36m      recall_macro       \u001b[0m\u001b[36m \u001b[0m│\u001b[35m \u001b[0m\u001b[35m   0.1328250616788864    \u001b[0m\u001b[35m \u001b[0m│\n",
       "└───────────────────────────┴───────────────────────────┘\n"
      ]
     },
     "metadata": {},
     "output_type": "display_data"
    },
    {
     "name": "stderr",
     "output_type": "stream",
     "text": [
      "\u001b[1;36m[2022-09-26 17:47:37] energizer/DEBUG\u001b[0m ~ \u001b[1;33mtrainer:466\u001b[0m$ \u001b[37mUsing `LeastConfidenceStrategy`\u001b[0m\n",
      "Global seed set to 42\n",
      "GPU available: True (mps), used: False\n",
      "TPU available: False, using: 0 TPU cores\n",
      "IPU available: False, using: 0 IPUs\n",
      "HPU available: False, using: 0 HPUs\n",
      "/Users/lescipi/miniconda3/envs/energizer-dev/lib/python3.9/site-packages/pytorch_lightning/trainer/trainer.py:1789: UserWarning: MPS available but not used. Set `accelerator` and `devices` using `Trainer(accelerator='mps', devices=1)`.\n",
      "  rank_zero_warn(\n",
      "\u001b[1;32m[2022-09-26 17:47:37] energizer/INFO\u001b[0m ~ \u001b[1;33mtrainer:269\u001b[0m$ \u001b[37mTrainer: trainer active_fit stage\u001b[0m\n",
      "\n",
      "  | Name          | Type             | Params\n",
      "---------------------------------------------------\n",
      "0 | model         | Sequential       | 184 K \n",
      "1 | train_metrics | MetricCollection | 0     \n",
      "2 | val_metrics   | MetricCollection | 0     \n",
      "3 | test_metrics  | MetricCollection | 0     \n",
      "---------------------------------------------------\n",
      "184 K     Trainable params\n",
      "0         Non-trainable params\n",
      "184 K     Total params\n",
      "0.738     Total estimated model params size (MB)\n",
      "\u001b[1;36m[2022-09-26 17:47:37] energizer/DEBUG\u001b[0m ~ \u001b[1;33mtrainer:466\u001b[0m$ \u001b[37mUsing `MarginStrategy`\u001b[0m\n"
     ]
    },
    {
     "name": "stdout",
     "output_type": "stream",
     "text": [
      "-------------------------Labelling Iteration 0--------------------------\n"
     ]
    },
    {
     "name": "stderr",
     "output_type": "stream",
     "text": [
      "\u001b[1;36m[2022-09-26 17:47:37] energizer/DEBUG\u001b[0m ~ \u001b[1;33mtrainer:470\u001b[0m$ \u001b[37mUsing underlying `MNISTCNNModel`\u001b[0m\n"
     ]
    },
    {
     "data": {
      "text/html": [
       "<pre style=\"white-space:pre;overflow-x:auto;line-height:normal;font-family:Menlo,'DejaVu Sans Mono',consolas,'Courier New',monospace\">┏━━━━━━━━━━━━━━━━━━━━━━━━━━━┳━━━━━━━━━━━━━━━━━━━━━━━━━━━┓\n",
       "┃<span style=\"font-weight: bold\">        Test metric        </span>┃<span style=\"font-weight: bold\">       DataLoader 0        </span>┃\n",
       "┡━━━━━━━━━━━━━━━━━━━━━━━━━━━╇━━━━━━━━━━━━━━━━━━━━━━━━━━━┩\n",
       "│<span style=\"color: #008080; text-decoration-color: #008080\">         accuracy          </span>│<span style=\"color: #800080; text-decoration-color: #800080\">    0.12139999866485596    </span>│\n",
       "│<span style=\"color: #008080; text-decoration-color: #008080\">         f1_macro          </span>│<span style=\"color: #800080; text-decoration-color: #800080\">    0.05989480018615723    </span>│\n",
       "│<span style=\"color: #008080; text-decoration-color: #008080\">         f1_micro          </span>│<span style=\"color: #800080; text-decoration-color: #800080\">    0.12139999866485596    </span>│\n",
       "│<span style=\"color: #008080; text-decoration-color: #008080\">           loss            </span>│<span style=\"color: #800080; text-decoration-color: #800080\">     2.302485466003418     </span>│\n",
       "│<span style=\"color: #008080; text-decoration-color: #008080\">      precision_macro      </span>│<span style=\"color: #800080; text-decoration-color: #800080\">   0.050614677369594574    </span>│\n",
       "│<span style=\"color: #008080; text-decoration-color: #008080\">       recall_macro        </span>│<span style=\"color: #800080; text-decoration-color: #800080\">    0.1247788593173027     </span>│\n",
       "└───────────────────────────┴───────────────────────────┘\n",
       "</pre>\n"
      ],
      "text/plain": [
       "┏━━━━━━━━━━━━━━━━━━━━━━━━━━━┳━━━━━━━━━━━━━━━━━━━━━━━━━━━┓\n",
       "┃\u001b[1m \u001b[0m\u001b[1m       Test metric       \u001b[0m\u001b[1m \u001b[0m┃\u001b[1m \u001b[0m\u001b[1m      DataLoader 0       \u001b[0m\u001b[1m \u001b[0m┃\n",
       "┡━━━━━━━━━━━━━━━━━━━━━━━━━━━╇━━━━━━━━━━━━━━━━━━━━━━━━━━━┩\n",
       "│\u001b[36m \u001b[0m\u001b[36m        accuracy         \u001b[0m\u001b[36m \u001b[0m│\u001b[35m \u001b[0m\u001b[35m   0.12139999866485596   \u001b[0m\u001b[35m \u001b[0m│\n",
       "│\u001b[36m \u001b[0m\u001b[36m        f1_macro         \u001b[0m\u001b[36m \u001b[0m│\u001b[35m \u001b[0m\u001b[35m   0.05989480018615723   \u001b[0m\u001b[35m \u001b[0m│\n",
       "│\u001b[36m \u001b[0m\u001b[36m        f1_micro         \u001b[0m\u001b[36m \u001b[0m│\u001b[35m \u001b[0m\u001b[35m   0.12139999866485596   \u001b[0m\u001b[35m \u001b[0m│\n",
       "│\u001b[36m \u001b[0m\u001b[36m          loss           \u001b[0m\u001b[36m \u001b[0m│\u001b[35m \u001b[0m\u001b[35m    2.302485466003418    \u001b[0m\u001b[35m \u001b[0m│\n",
       "│\u001b[36m \u001b[0m\u001b[36m     precision_macro     \u001b[0m\u001b[36m \u001b[0m│\u001b[35m \u001b[0m\u001b[35m  0.050614677369594574   \u001b[0m\u001b[35m \u001b[0m│\n",
       "│\u001b[36m \u001b[0m\u001b[36m      recall_macro       \u001b[0m\u001b[36m \u001b[0m│\u001b[35m \u001b[0m\u001b[35m   0.1247788593173027    \u001b[0m\u001b[35m \u001b[0m│\n",
       "└───────────────────────────┴───────────────────────────┘\n"
      ]
     },
     "metadata": {},
     "output_type": "display_data"
    },
    {
     "name": "stderr",
     "output_type": "stream",
     "text": [
      "\u001b[1;36m[2022-09-26 17:47:40] energizer/DEBUG\u001b[0m ~ \u001b[1;33mtrainer:466\u001b[0m$ \u001b[37mUsing `MarginStrategy`\u001b[0m\n",
      "\u001b[1;32m[2022-09-26 17:47:49] energizer/INFO\u001b[0m ~ \u001b[1;33mactive_learning_loop:193\u001b[0m$ \u001b[37mQueried 10 instance\u001b[0m\n",
      "\u001b[1;32m[2022-09-26 17:47:49] energizer/INFO\u001b[0m ~ \u001b[1;33mactive_learning_loop:281\u001b[0m$ \u001b[37mAnnotated 10 instances\u001b[0m\n",
      "\u001b[1;32m[2022-09-26 17:47:49] energizer/INFO\u001b[0m ~ \u001b[1;33mactive_learning_loop:282\u001b[0m$ \u001b[37mNew data statistics\n",
      "num_pool_batches: 430\n",
      "num_train_batches: 1\n",
      "pool_size: 54990\n",
      "total_data_size: 55000\n",
      "train_size: 10\n",
      "\u001b[0m\n"
     ]
    },
    {
     "name": "stdout",
     "output_type": "stream",
     "text": [
      "-------------------------Labelling Iteration 1--------------------------\n"
     ]
    },
    {
     "name": "stderr",
     "output_type": "stream",
     "text": [
      "\u001b[1;36m[2022-09-26 17:47:49] energizer/DEBUG\u001b[0m ~ \u001b[1;33mtrainer:470\u001b[0m$ \u001b[37mUsing underlying `MNISTCNNModel`\u001b[0m\n",
      "\u001b[1;36m[2022-09-26 17:47:49] energizer/DEBUG\u001b[0m ~ \u001b[1;33mactive_learning_loop:250\u001b[0m$ \u001b[37mMNISTCNNModel state dict has been re-initialized\u001b[0m\n",
      "`Trainer.fit` stopped: `max_epochs=3` reached.\n",
      "\u001b[1;36m[2022-09-26 17:47:54] energizer/DEBUG\u001b[0m ~ \u001b[1;33mtrainer:470\u001b[0m$ \u001b[37mUsing underlying `MNISTCNNModel`\u001b[0m\n"
     ]
    },
    {
     "data": {
      "text/html": [
       "<pre style=\"white-space:pre;overflow-x:auto;line-height:normal;font-family:Menlo,'DejaVu Sans Mono',consolas,'Courier New',monospace\">┏━━━━━━━━━━━━━━━━━━━━━━━━━━━┳━━━━━━━━━━━━━━━━━━━━━━━━━━━┓\n",
       "┃<span style=\"font-weight: bold\">        Test metric        </span>┃<span style=\"font-weight: bold\">       DataLoader 0        </span>┃\n",
       "┡━━━━━━━━━━━━━━━━━━━━━━━━━━━╇━━━━━━━━━━━━━━━━━━━━━━━━━━━┩\n",
       "│<span style=\"color: #008080; text-decoration-color: #008080\">         accuracy          </span>│<span style=\"color: #800080; text-decoration-color: #800080\">    0.11969999969005585    </span>│\n",
       "│<span style=\"color: #008080; text-decoration-color: #008080\">         f1_macro          </span>│<span style=\"color: #800080; text-decoration-color: #800080\">   0.054541368037462234    </span>│\n",
       "│<span style=\"color: #008080; text-decoration-color: #008080\">         f1_micro          </span>│<span style=\"color: #800080; text-decoration-color: #800080\">    0.11969999969005585    </span>│\n",
       "│<span style=\"color: #008080; text-decoration-color: #008080\">           loss            </span>│<span style=\"color: #800080; text-decoration-color: #800080\">     2.29711651802063      </span>│\n",
       "│<span style=\"color: #008080; text-decoration-color: #008080\">      precision_macro      </span>│<span style=\"color: #800080; text-decoration-color: #800080\">   0.045692265033721924    </span>│\n",
       "│<span style=\"color: #008080; text-decoration-color: #008080\">       recall_macro        </span>│<span style=\"color: #800080; text-decoration-color: #800080\">    0.12266905605792999    </span>│\n",
       "└───────────────────────────┴───────────────────────────┘\n",
       "</pre>\n"
      ],
      "text/plain": [
       "┏━━━━━━━━━━━━━━━━━━━━━━━━━━━┳━━━━━━━━━━━━━━━━━━━━━━━━━━━┓\n",
       "┃\u001b[1m \u001b[0m\u001b[1m       Test metric       \u001b[0m\u001b[1m \u001b[0m┃\u001b[1m \u001b[0m\u001b[1m      DataLoader 0       \u001b[0m\u001b[1m \u001b[0m┃\n",
       "┡━━━━━━━━━━━━━━━━━━━━━━━━━━━╇━━━━━━━━━━━━━━━━━━━━━━━━━━━┩\n",
       "│\u001b[36m \u001b[0m\u001b[36m        accuracy         \u001b[0m\u001b[36m \u001b[0m│\u001b[35m \u001b[0m\u001b[35m   0.11969999969005585   \u001b[0m\u001b[35m \u001b[0m│\n",
       "│\u001b[36m \u001b[0m\u001b[36m        f1_macro         \u001b[0m\u001b[36m \u001b[0m│\u001b[35m \u001b[0m\u001b[35m  0.054541368037462234   \u001b[0m\u001b[35m \u001b[0m│\n",
       "│\u001b[36m \u001b[0m\u001b[36m        f1_micro         \u001b[0m\u001b[36m \u001b[0m│\u001b[35m \u001b[0m\u001b[35m   0.11969999969005585   \u001b[0m\u001b[35m \u001b[0m│\n",
       "│\u001b[36m \u001b[0m\u001b[36m          loss           \u001b[0m\u001b[36m \u001b[0m│\u001b[35m \u001b[0m\u001b[35m    2.29711651802063     \u001b[0m\u001b[35m \u001b[0m│\n",
       "│\u001b[36m \u001b[0m\u001b[36m     precision_macro     \u001b[0m\u001b[36m \u001b[0m│\u001b[35m \u001b[0m\u001b[35m  0.045692265033721924   \u001b[0m\u001b[35m \u001b[0m│\n",
       "│\u001b[36m \u001b[0m\u001b[36m      recall_macro       \u001b[0m\u001b[36m \u001b[0m│\u001b[35m \u001b[0m\u001b[35m   0.12266905605792999   \u001b[0m\u001b[35m \u001b[0m│\n",
       "└───────────────────────────┴───────────────────────────┘\n"
      ]
     },
     "metadata": {},
     "output_type": "display_data"
    },
    {
     "name": "stderr",
     "output_type": "stream",
     "text": [
      "\u001b[1;36m[2022-09-26 17:47:57] energizer/DEBUG\u001b[0m ~ \u001b[1;33mtrainer:466\u001b[0m$ \u001b[37mUsing `MarginStrategy`\u001b[0m\n",
      "\u001b[1;32m[2022-09-26 17:48:07] energizer/INFO\u001b[0m ~ \u001b[1;33mactive_learning_loop:193\u001b[0m$ \u001b[37mQueried 10 instance\u001b[0m\n",
      "\u001b[1;32m[2022-09-26 17:48:07] energizer/INFO\u001b[0m ~ \u001b[1;33mactive_learning_loop:281\u001b[0m$ \u001b[37mAnnotated 10 instances\u001b[0m\n",
      "\u001b[1;32m[2022-09-26 17:48:07] energizer/INFO\u001b[0m ~ \u001b[1;33mactive_learning_loop:282\u001b[0m$ \u001b[37mNew data statistics\n",
      "num_pool_batches: 430\n",
      "num_train_batches: 1\n",
      "pool_size: 54980\n",
      "total_data_size: 55000\n",
      "train_size: 20\n",
      "\u001b[0m\n",
      "\u001b[1;36m[2022-09-26 17:48:07] energizer/DEBUG\u001b[0m ~ \u001b[1;33mtrainer:470\u001b[0m$ \u001b[37mUsing underlying `MNISTCNNModel`\u001b[0m\n",
      "\u001b[1;36m[2022-09-26 17:48:07] energizer/DEBUG\u001b[0m ~ \u001b[1;33mactive_learning_loop:250\u001b[0m$ \u001b[37mMNISTCNNModel state dict has been re-initialized\u001b[0m\n"
     ]
    },
    {
     "name": "stdout",
     "output_type": "stream",
     "text": [
      "-----------------------------Last fit_loop------------------------------\n"
     ]
    },
    {
     "name": "stderr",
     "output_type": "stream",
     "text": [
      "`Trainer.fit` stopped: `max_epochs=3` reached.\n",
      "\u001b[1;36m[2022-09-26 17:48:13] energizer/DEBUG\u001b[0m ~ \u001b[1;33mtrainer:470\u001b[0m$ \u001b[37mUsing underlying `MNISTCNNModel`\u001b[0m\n"
     ]
    },
    {
     "data": {
      "text/html": [
       "<pre style=\"white-space:pre;overflow-x:auto;line-height:normal;font-family:Menlo,'DejaVu Sans Mono',consolas,'Courier New',monospace\">┏━━━━━━━━━━━━━━━━━━━━━━━━━━━┳━━━━━━━━━━━━━━━━━━━━━━━━━━━┓\n",
       "┃<span style=\"font-weight: bold\">        Test metric        </span>┃<span style=\"font-weight: bold\">       DataLoader 0        </span>┃\n",
       "┡━━━━━━━━━━━━━━━━━━━━━━━━━━━╇━━━━━━━━━━━━━━━━━━━━━━━━━━━┩\n",
       "│<span style=\"color: #008080; text-decoration-color: #008080\">         accuracy          </span>│<span style=\"color: #800080; text-decoration-color: #800080\">    0.11890000104904175    </span>│\n",
       "│<span style=\"color: #008080; text-decoration-color: #008080\">         f1_macro          </span>│<span style=\"color: #800080; text-decoration-color: #800080\">    0.05812247842550278    </span>│\n",
       "│<span style=\"color: #008080; text-decoration-color: #008080\">         f1_micro          </span>│<span style=\"color: #800080; text-decoration-color: #800080\">    0.11890000104904175    </span>│\n",
       "│<span style=\"color: #008080; text-decoration-color: #008080\">           loss            </span>│<span style=\"color: #800080; text-decoration-color: #800080\">    2.2988967895507812     </span>│\n",
       "│<span style=\"color: #008080; text-decoration-color: #008080\">      precision_macro      </span>│<span style=\"color: #800080; text-decoration-color: #800080\">   0.054246868938207626    </span>│\n",
       "│<span style=\"color: #008080; text-decoration-color: #008080\">       recall_macro        </span>│<span style=\"color: #800080; text-decoration-color: #800080\">    0.12245862185955048    </span>│\n",
       "└───────────────────────────┴───────────────────────────┘\n",
       "</pre>\n"
      ],
      "text/plain": [
       "┏━━━━━━━━━━━━━━━━━━━━━━━━━━━┳━━━━━━━━━━━━━━━━━━━━━━━━━━━┓\n",
       "┃\u001b[1m \u001b[0m\u001b[1m       Test metric       \u001b[0m\u001b[1m \u001b[0m┃\u001b[1m \u001b[0m\u001b[1m      DataLoader 0       \u001b[0m\u001b[1m \u001b[0m┃\n",
       "┡━━━━━━━━━━━━━━━━━━━━━━━━━━━╇━━━━━━━━━━━━━━━━━━━━━━━━━━━┩\n",
       "│\u001b[36m \u001b[0m\u001b[36m        accuracy         \u001b[0m\u001b[36m \u001b[0m│\u001b[35m \u001b[0m\u001b[35m   0.11890000104904175   \u001b[0m\u001b[35m \u001b[0m│\n",
       "│\u001b[36m \u001b[0m\u001b[36m        f1_macro         \u001b[0m\u001b[36m \u001b[0m│\u001b[35m \u001b[0m\u001b[35m   0.05812247842550278   \u001b[0m\u001b[35m \u001b[0m│\n",
       "│\u001b[36m \u001b[0m\u001b[36m        f1_micro         \u001b[0m\u001b[36m \u001b[0m│\u001b[35m \u001b[0m\u001b[35m   0.11890000104904175   \u001b[0m\u001b[35m \u001b[0m│\n",
       "│\u001b[36m \u001b[0m\u001b[36m          loss           \u001b[0m\u001b[36m \u001b[0m│\u001b[35m \u001b[0m\u001b[35m   2.2988967895507812    \u001b[0m\u001b[35m \u001b[0m│\n",
       "│\u001b[36m \u001b[0m\u001b[36m     precision_macro     \u001b[0m\u001b[36m \u001b[0m│\u001b[35m \u001b[0m\u001b[35m  0.054246868938207626   \u001b[0m\u001b[35m \u001b[0m│\n",
       "│\u001b[36m \u001b[0m\u001b[36m      recall_macro       \u001b[0m\u001b[36m \u001b[0m│\u001b[35m \u001b[0m\u001b[35m   0.12245862185955048   \u001b[0m\u001b[35m \u001b[0m│\n",
       "└───────────────────────────┴───────────────────────────┘\n"
      ]
     },
     "metadata": {},
     "output_type": "display_data"
    },
    {
     "name": "stderr",
     "output_type": "stream",
     "text": [
      "\u001b[1;36m[2022-09-26 17:48:16] energizer/DEBUG\u001b[0m ~ \u001b[1;33mtrainer:466\u001b[0m$ \u001b[37mUsing `MarginStrategy`\u001b[0m\n",
      "Global seed set to 42\n",
      "GPU available: True (mps), used: False\n",
      "TPU available: False, using: 0 TPU cores\n",
      "IPU available: False, using: 0 IPUs\n",
      "HPU available: False, using: 0 HPUs\n",
      "/Users/lescipi/miniconda3/envs/energizer-dev/lib/python3.9/site-packages/pytorch_lightning/trainer/trainer.py:1789: UserWarning: MPS available but not used. Set `accelerator` and `devices` using `Trainer(accelerator='mps', devices=1)`.\n",
      "  rank_zero_warn(\n",
      "\u001b[1;32m[2022-09-26 17:48:16] energizer/INFO\u001b[0m ~ \u001b[1;33mtrainer:269\u001b[0m$ \u001b[37mTrainer: trainer active_fit stage\u001b[0m\n",
      "\n",
      "  | Name          | Type             | Params\n",
      "---------------------------------------------------\n",
      "0 | model         | Sequential       | 184 K \n",
      "1 | train_metrics | MetricCollection | 0     \n",
      "2 | val_metrics   | MetricCollection | 0     \n",
      "3 | test_metrics  | MetricCollection | 0     \n",
      "---------------------------------------------------\n",
      "184 K     Trainable params\n",
      "0         Non-trainable params\n",
      "184 K     Total params\n",
      "0.738     Total estimated model params size (MB)\n",
      "\u001b[1;36m[2022-09-26 17:48:16] energizer/DEBUG\u001b[0m ~ \u001b[1;33mtrainer:466\u001b[0m$ \u001b[37mUsing `EntropyStrategy`\u001b[0m\n"
     ]
    },
    {
     "name": "stdout",
     "output_type": "stream",
     "text": [
      "-------------------------Labelling Iteration 0--------------------------\n"
     ]
    },
    {
     "name": "stderr",
     "output_type": "stream",
     "text": [
      "\u001b[1;36m[2022-09-26 17:48:16] energizer/DEBUG\u001b[0m ~ \u001b[1;33mtrainer:470\u001b[0m$ \u001b[37mUsing underlying `MNISTCNNModel`\u001b[0m\n"
     ]
    },
    {
     "data": {
      "text/html": [
       "<pre style=\"white-space:pre;overflow-x:auto;line-height:normal;font-family:Menlo,'DejaVu Sans Mono',consolas,'Courier New',monospace\">┏━━━━━━━━━━━━━━━━━━━━━━━━━━━┳━━━━━━━━━━━━━━━━━━━━━━━━━━━┓\n",
       "┃<span style=\"font-weight: bold\">        Test metric        </span>┃<span style=\"font-weight: bold\">       DataLoader 0        </span>┃\n",
       "┡━━━━━━━━━━━━━━━━━━━━━━━━━━━╇━━━━━━━━━━━━━━━━━━━━━━━━━━━┩\n",
       "│<span style=\"color: #008080; text-decoration-color: #008080\">         accuracy          </span>│<span style=\"color: #800080; text-decoration-color: #800080\">    0.12139999866485596    </span>│\n",
       "│<span style=\"color: #008080; text-decoration-color: #008080\">         f1_macro          </span>│<span style=\"color: #800080; text-decoration-color: #800080\">    0.05989480018615723    </span>│\n",
       "│<span style=\"color: #008080; text-decoration-color: #008080\">         f1_micro          </span>│<span style=\"color: #800080; text-decoration-color: #800080\">    0.12139999866485596    </span>│\n",
       "│<span style=\"color: #008080; text-decoration-color: #008080\">           loss            </span>│<span style=\"color: #800080; text-decoration-color: #800080\">     2.302485466003418     </span>│\n",
       "│<span style=\"color: #008080; text-decoration-color: #008080\">      precision_macro      </span>│<span style=\"color: #800080; text-decoration-color: #800080\">   0.050614677369594574    </span>│\n",
       "│<span style=\"color: #008080; text-decoration-color: #008080\">       recall_macro        </span>│<span style=\"color: #800080; text-decoration-color: #800080\">    0.1247788593173027     </span>│\n",
       "└───────────────────────────┴───────────────────────────┘\n",
       "</pre>\n"
      ],
      "text/plain": [
       "┏━━━━━━━━━━━━━━━━━━━━━━━━━━━┳━━━━━━━━━━━━━━━━━━━━━━━━━━━┓\n",
       "┃\u001b[1m \u001b[0m\u001b[1m       Test metric       \u001b[0m\u001b[1m \u001b[0m┃\u001b[1m \u001b[0m\u001b[1m      DataLoader 0       \u001b[0m\u001b[1m \u001b[0m┃\n",
       "┡━━━━━━━━━━━━━━━━━━━━━━━━━━━╇━━━━━━━━━━━━━━━━━━━━━━━━━━━┩\n",
       "│\u001b[36m \u001b[0m\u001b[36m        accuracy         \u001b[0m\u001b[36m \u001b[0m│\u001b[35m \u001b[0m\u001b[35m   0.12139999866485596   \u001b[0m\u001b[35m \u001b[0m│\n",
       "│\u001b[36m \u001b[0m\u001b[36m        f1_macro         \u001b[0m\u001b[36m \u001b[0m│\u001b[35m \u001b[0m\u001b[35m   0.05989480018615723   \u001b[0m\u001b[35m \u001b[0m│\n",
       "│\u001b[36m \u001b[0m\u001b[36m        f1_micro         \u001b[0m\u001b[36m \u001b[0m│\u001b[35m \u001b[0m\u001b[35m   0.12139999866485596   \u001b[0m\u001b[35m \u001b[0m│\n",
       "│\u001b[36m \u001b[0m\u001b[36m          loss           \u001b[0m\u001b[36m \u001b[0m│\u001b[35m \u001b[0m\u001b[35m    2.302485466003418    \u001b[0m\u001b[35m \u001b[0m│\n",
       "│\u001b[36m \u001b[0m\u001b[36m     precision_macro     \u001b[0m\u001b[36m \u001b[0m│\u001b[35m \u001b[0m\u001b[35m  0.050614677369594574   \u001b[0m\u001b[35m \u001b[0m│\n",
       "│\u001b[36m \u001b[0m\u001b[36m      recall_macro       \u001b[0m\u001b[36m \u001b[0m│\u001b[35m \u001b[0m\u001b[35m   0.1247788593173027    \u001b[0m\u001b[35m \u001b[0m│\n",
       "└───────────────────────────┴───────────────────────────┘\n"
      ]
     },
     "metadata": {},
     "output_type": "display_data"
    },
    {
     "name": "stderr",
     "output_type": "stream",
     "text": [
      "\u001b[1;36m[2022-09-26 17:48:19] energizer/DEBUG\u001b[0m ~ \u001b[1;33mtrainer:466\u001b[0m$ \u001b[37mUsing `EntropyStrategy`\u001b[0m\n",
      "\u001b[1;32m[2022-09-26 17:48:28] energizer/INFO\u001b[0m ~ \u001b[1;33mactive_learning_loop:193\u001b[0m$ \u001b[37mQueried 10 instance\u001b[0m\n",
      "\u001b[1;32m[2022-09-26 17:48:28] energizer/INFO\u001b[0m ~ \u001b[1;33mactive_learning_loop:281\u001b[0m$ \u001b[37mAnnotated 10 instances\u001b[0m\n",
      "\u001b[1;32m[2022-09-26 17:48:28] energizer/INFO\u001b[0m ~ \u001b[1;33mactive_learning_loop:282\u001b[0m$ \u001b[37mNew data statistics\n",
      "num_pool_batches: 430\n",
      "num_train_batches: 1\n",
      "pool_size: 54990\n",
      "total_data_size: 55000\n",
      "train_size: 10\n",
      "\u001b[0m\n"
     ]
    },
    {
     "name": "stdout",
     "output_type": "stream",
     "text": [
      "-------------------------Labelling Iteration 1--------------------------\n"
     ]
    },
    {
     "name": "stderr",
     "output_type": "stream",
     "text": [
      "\u001b[1;36m[2022-09-26 17:48:28] energizer/DEBUG\u001b[0m ~ \u001b[1;33mtrainer:470\u001b[0m$ \u001b[37mUsing underlying `MNISTCNNModel`\u001b[0m\n",
      "\u001b[1;36m[2022-09-26 17:48:28] energizer/DEBUG\u001b[0m ~ \u001b[1;33mactive_learning_loop:250\u001b[0m$ \u001b[37mMNISTCNNModel state dict has been re-initialized\u001b[0m\n",
      "`Trainer.fit` stopped: `max_epochs=3` reached.\n",
      "\u001b[1;36m[2022-09-26 17:48:34] energizer/DEBUG\u001b[0m ~ \u001b[1;33mtrainer:470\u001b[0m$ \u001b[37mUsing underlying `MNISTCNNModel`\u001b[0m\n"
     ]
    },
    {
     "data": {
      "text/html": [
       "<pre style=\"white-space:pre;overflow-x:auto;line-height:normal;font-family:Menlo,'DejaVu Sans Mono',consolas,'Courier New',monospace\">┏━━━━━━━━━━━━━━━━━━━━━━━━━━━┳━━━━━━━━━━━━━━━━━━━━━━━━━━━┓\n",
       "┃<span style=\"font-weight: bold\">        Test metric        </span>┃<span style=\"font-weight: bold\">       DataLoader 0        </span>┃\n",
       "┡━━━━━━━━━━━━━━━━━━━━━━━━━━━╇━━━━━━━━━━━━━━━━━━━━━━━━━━━┩\n",
       "│<span style=\"color: #008080; text-decoration-color: #008080\">         accuracy          </span>│<span style=\"color: #800080; text-decoration-color: #800080\">    0.12999999523162842    </span>│\n",
       "│<span style=\"color: #008080; text-decoration-color: #008080\">         f1_macro          </span>│<span style=\"color: #800080; text-decoration-color: #800080\">    0.06347090005874634    </span>│\n",
       "│<span style=\"color: #008080; text-decoration-color: #008080\">         f1_micro          </span>│<span style=\"color: #800080; text-decoration-color: #800080\">    0.12999999523162842    </span>│\n",
       "│<span style=\"color: #008080; text-decoration-color: #008080\">           loss            </span>│<span style=\"color: #800080; text-decoration-color: #800080\">    2.2974393367767334     </span>│\n",
       "│<span style=\"color: #008080; text-decoration-color: #008080\">      precision_macro      </span>│<span style=\"color: #800080; text-decoration-color: #800080\">   0.046992816030979156    </span>│\n",
       "│<span style=\"color: #008080; text-decoration-color: #008080\">       recall_macro        </span>│<span style=\"color: #800080; text-decoration-color: #800080\">    0.1336027979850769     </span>│\n",
       "└───────────────────────────┴───────────────────────────┘\n",
       "</pre>\n"
      ],
      "text/plain": [
       "┏━━━━━━━━━━━━━━━━━━━━━━━━━━━┳━━━━━━━━━━━━━━━━━━━━━━━━━━━┓\n",
       "┃\u001b[1m \u001b[0m\u001b[1m       Test metric       \u001b[0m\u001b[1m \u001b[0m┃\u001b[1m \u001b[0m\u001b[1m      DataLoader 0       \u001b[0m\u001b[1m \u001b[0m┃\n",
       "┡━━━━━━━━━━━━━━━━━━━━━━━━━━━╇━━━━━━━━━━━━━━━━━━━━━━━━━━━┩\n",
       "│\u001b[36m \u001b[0m\u001b[36m        accuracy         \u001b[0m\u001b[36m \u001b[0m│\u001b[35m \u001b[0m\u001b[35m   0.12999999523162842   \u001b[0m\u001b[35m \u001b[0m│\n",
       "│\u001b[36m \u001b[0m\u001b[36m        f1_macro         \u001b[0m\u001b[36m \u001b[0m│\u001b[35m \u001b[0m\u001b[35m   0.06347090005874634   \u001b[0m\u001b[35m \u001b[0m│\n",
       "│\u001b[36m \u001b[0m\u001b[36m        f1_micro         \u001b[0m\u001b[36m \u001b[0m│\u001b[35m \u001b[0m\u001b[35m   0.12999999523162842   \u001b[0m\u001b[35m \u001b[0m│\n",
       "│\u001b[36m \u001b[0m\u001b[36m          loss           \u001b[0m\u001b[36m \u001b[0m│\u001b[35m \u001b[0m\u001b[35m   2.2974393367767334    \u001b[0m\u001b[35m \u001b[0m│\n",
       "│\u001b[36m \u001b[0m\u001b[36m     precision_macro     \u001b[0m\u001b[36m \u001b[0m│\u001b[35m \u001b[0m\u001b[35m  0.046992816030979156   \u001b[0m\u001b[35m \u001b[0m│\n",
       "│\u001b[36m \u001b[0m\u001b[36m      recall_macro       \u001b[0m\u001b[36m \u001b[0m│\u001b[35m \u001b[0m\u001b[35m   0.1336027979850769    \u001b[0m\u001b[35m \u001b[0m│\n",
       "└───────────────────────────┴───────────────────────────┘\n"
      ]
     },
     "metadata": {},
     "output_type": "display_data"
    },
    {
     "name": "stderr",
     "output_type": "stream",
     "text": [
      "\u001b[1;36m[2022-09-26 17:48:36] energizer/DEBUG\u001b[0m ~ \u001b[1;33mtrainer:466\u001b[0m$ \u001b[37mUsing `EntropyStrategy`\u001b[0m\n",
      "\u001b[1;32m[2022-09-26 17:48:46] energizer/INFO\u001b[0m ~ \u001b[1;33mactive_learning_loop:193\u001b[0m$ \u001b[37mQueried 10 instance\u001b[0m\n",
      "\u001b[1;32m[2022-09-26 17:48:46] energizer/INFO\u001b[0m ~ \u001b[1;33mactive_learning_loop:281\u001b[0m$ \u001b[37mAnnotated 10 instances\u001b[0m\n",
      "\u001b[1;32m[2022-09-26 17:48:46] energizer/INFO\u001b[0m ~ \u001b[1;33mactive_learning_loop:282\u001b[0m$ \u001b[37mNew data statistics\n",
      "num_pool_batches: 430\n",
      "num_train_batches: 1\n",
      "pool_size: 54980\n",
      "total_data_size: 55000\n",
      "train_size: 20\n",
      "\u001b[0m\n",
      "\u001b[1;36m[2022-09-26 17:48:46] energizer/DEBUG\u001b[0m ~ \u001b[1;33mtrainer:470\u001b[0m$ \u001b[37mUsing underlying `MNISTCNNModel`\u001b[0m\n",
      "\u001b[1;36m[2022-09-26 17:48:46] energizer/DEBUG\u001b[0m ~ \u001b[1;33mactive_learning_loop:250\u001b[0m$ \u001b[37mMNISTCNNModel state dict has been re-initialized\u001b[0m\n"
     ]
    },
    {
     "name": "stdout",
     "output_type": "stream",
     "text": [
      "-----------------------------Last fit_loop------------------------------\n"
     ]
    },
    {
     "name": "stderr",
     "output_type": "stream",
     "text": [
      "`Trainer.fit` stopped: `max_epochs=3` reached.\n",
      "\u001b[1;36m[2022-09-26 17:48:52] energizer/DEBUG\u001b[0m ~ \u001b[1;33mtrainer:470\u001b[0m$ \u001b[37mUsing underlying `MNISTCNNModel`\u001b[0m\n"
     ]
    },
    {
     "data": {
      "text/html": [
       "<pre style=\"white-space:pre;overflow-x:auto;line-height:normal;font-family:Menlo,'DejaVu Sans Mono',consolas,'Courier New',monospace\">┏━━━━━━━━━━━━━━━━━━━━━━━━━━━┳━━━━━━━━━━━━━━━━━━━━━━━━━━━┓\n",
       "┃<span style=\"font-weight: bold\">        Test metric        </span>┃<span style=\"font-weight: bold\">       DataLoader 0        </span>┃\n",
       "┡━━━━━━━━━━━━━━━━━━━━━━━━━━━╇━━━━━━━━━━━━━━━━━━━━━━━━━━━┩\n",
       "│<span style=\"color: #008080; text-decoration-color: #008080\">         accuracy          </span>│<span style=\"color: #800080; text-decoration-color: #800080\">    0.12530000507831573    </span>│\n",
       "│<span style=\"color: #008080; text-decoration-color: #008080\">         f1_macro          </span>│<span style=\"color: #800080; text-decoration-color: #800080\">    0.06157331541180611    </span>│\n",
       "│<span style=\"color: #008080; text-decoration-color: #008080\">         f1_micro          </span>│<span style=\"color: #800080; text-decoration-color: #800080\">    0.12530000507831573    </span>│\n",
       "│<span style=\"color: #008080; text-decoration-color: #008080\">           loss            </span>│<span style=\"color: #800080; text-decoration-color: #800080\">     2.297584295272827     </span>│\n",
       "│<span style=\"color: #008080; text-decoration-color: #008080\">      precision_macro      </span>│<span style=\"color: #800080; text-decoration-color: #800080\">    0.04746979475021362    </span>│\n",
       "│<span style=\"color: #008080; text-decoration-color: #008080\">       recall_macro        </span>│<span style=\"color: #800080; text-decoration-color: #800080\">    0.1287963092327118     </span>│\n",
       "└───────────────────────────┴───────────────────────────┘\n",
       "</pre>\n"
      ],
      "text/plain": [
       "┏━━━━━━━━━━━━━━━━━━━━━━━━━━━┳━━━━━━━━━━━━━━━━━━━━━━━━━━━┓\n",
       "┃\u001b[1m \u001b[0m\u001b[1m       Test metric       \u001b[0m\u001b[1m \u001b[0m┃\u001b[1m \u001b[0m\u001b[1m      DataLoader 0       \u001b[0m\u001b[1m \u001b[0m┃\n",
       "┡━━━━━━━━━━━━━━━━━━━━━━━━━━━╇━━━━━━━━━━━━━━━━━━━━━━━━━━━┩\n",
       "│\u001b[36m \u001b[0m\u001b[36m        accuracy         \u001b[0m\u001b[36m \u001b[0m│\u001b[35m \u001b[0m\u001b[35m   0.12530000507831573   \u001b[0m\u001b[35m \u001b[0m│\n",
       "│\u001b[36m \u001b[0m\u001b[36m        f1_macro         \u001b[0m\u001b[36m \u001b[0m│\u001b[35m \u001b[0m\u001b[35m   0.06157331541180611   \u001b[0m\u001b[35m \u001b[0m│\n",
       "│\u001b[36m \u001b[0m\u001b[36m        f1_micro         \u001b[0m\u001b[36m \u001b[0m│\u001b[35m \u001b[0m\u001b[35m   0.12530000507831573   \u001b[0m\u001b[35m \u001b[0m│\n",
       "│\u001b[36m \u001b[0m\u001b[36m          loss           \u001b[0m\u001b[36m \u001b[0m│\u001b[35m \u001b[0m\u001b[35m    2.297584295272827    \u001b[0m\u001b[35m \u001b[0m│\n",
       "│\u001b[36m \u001b[0m\u001b[36m     precision_macro     \u001b[0m\u001b[36m \u001b[0m│\u001b[35m \u001b[0m\u001b[35m   0.04746979475021362   \u001b[0m\u001b[35m \u001b[0m│\n",
       "│\u001b[36m \u001b[0m\u001b[36m      recall_macro       \u001b[0m\u001b[36m \u001b[0m│\u001b[35m \u001b[0m\u001b[35m   0.1287963092327118    \u001b[0m\u001b[35m \u001b[0m│\n",
       "└───────────────────────────┴───────────────────────────┘\n"
      ]
     },
     "metadata": {},
     "output_type": "display_data"
    },
    {
     "name": "stderr",
     "output_type": "stream",
     "text": [
      "\u001b[1;36m[2022-09-26 17:48:55] energizer/DEBUG\u001b[0m ~ \u001b[1;33mtrainer:466\u001b[0m$ \u001b[37mUsing `EntropyStrategy`\u001b[0m\n",
      "Global seed set to 42\n",
      "GPU available: True (mps), used: False\n",
      "TPU available: False, using: 0 TPU cores\n",
      "IPU available: False, using: 0 IPUs\n",
      "HPU available: False, using: 0 HPUs\n",
      "/Users/lescipi/miniconda3/envs/energizer-dev/lib/python3.9/site-packages/pytorch_lightning/trainer/trainer.py:1789: UserWarning: MPS available but not used. Set `accelerator` and `devices` using `Trainer(accelerator='mps', devices=1)`.\n",
      "  rank_zero_warn(\n",
      "\u001b[1;32m[2022-09-26 17:48:55] energizer/INFO\u001b[0m ~ \u001b[1;33mtrainer:269\u001b[0m$ \u001b[37mTrainer: trainer active_fit stage\u001b[0m\n",
      "\n",
      "  | Name          | Type             | Params\n",
      "---------------------------------------------------\n",
      "0 | model         | Sequential       | 184 K \n",
      "1 | train_metrics | MetricCollection | 0     \n",
      "2 | val_metrics   | MetricCollection | 0     \n",
      "3 | test_metrics  | MetricCollection | 0     \n",
      "---------------------------------------------------\n",
      "184 K     Trainable params\n",
      "0         Non-trainable params\n",
      "184 K     Total params\n",
      "0.738     Total estimated model params size (MB)\n",
      "\u001b[1;36m[2022-09-26 17:48:55] energizer/DEBUG\u001b[0m ~ \u001b[1;33mtrainer:466\u001b[0m$ \u001b[37mUsing `BALDStrategy`\u001b[0m\n"
     ]
    },
    {
     "name": "stdout",
     "output_type": "stream",
     "text": [
      "-------------------------Labelling Iteration 0--------------------------\n"
     ]
    },
    {
     "name": "stderr",
     "output_type": "stream",
     "text": [
      "\u001b[1;36m[2022-09-26 17:48:55] energizer/DEBUG\u001b[0m ~ \u001b[1;33mtrainer:470\u001b[0m$ \u001b[37mUsing underlying `MNISTCNNModel`\u001b[0m\n"
     ]
    },
    {
     "data": {
      "text/html": [
       "<pre style=\"white-space:pre;overflow-x:auto;line-height:normal;font-family:Menlo,'DejaVu Sans Mono',consolas,'Courier New',monospace\">┏━━━━━━━━━━━━━━━━━━━━━━━━━━━┳━━━━━━━━━━━━━━━━━━━━━━━━━━━┓\n",
       "┃<span style=\"font-weight: bold\">        Test metric        </span>┃<span style=\"font-weight: bold\">       DataLoader 0        </span>┃\n",
       "┡━━━━━━━━━━━━━━━━━━━━━━━━━━━╇━━━━━━━━━━━━━━━━━━━━━━━━━━━┩\n",
       "│<span style=\"color: #008080; text-decoration-color: #008080\">         accuracy          </span>│<span style=\"color: #800080; text-decoration-color: #800080\">    0.09989999979734421    </span>│\n",
       "│<span style=\"color: #008080; text-decoration-color: #008080\">         f1_macro          </span>│<span style=\"color: #800080; text-decoration-color: #800080\">    0.07487398386001587    </span>│\n",
       "│<span style=\"color: #008080; text-decoration-color: #008080\">         f1_micro          </span>│<span style=\"color: #800080; text-decoration-color: #800080\">    0.09989999979734421    </span>│\n",
       "│<span style=\"color: #008080; text-decoration-color: #008080\">           loss            </span>│<span style=\"color: #800080; text-decoration-color: #800080\">     2.383131742477417     </span>│\n",
       "│<span style=\"color: #008080; text-decoration-color: #008080\">      precision_macro      </span>│<span style=\"color: #800080; text-decoration-color: #800080\">    0.09914936870336533    </span>│\n",
       "│<span style=\"color: #008080; text-decoration-color: #008080\">       recall_macro        </span>│<span style=\"color: #800080; text-decoration-color: #800080\">    0.10110820829868317    </span>│\n",
       "└───────────────────────────┴───────────────────────────┘\n",
       "</pre>\n"
      ],
      "text/plain": [
       "┏━━━━━━━━━━━━━━━━━━━━━━━━━━━┳━━━━━━━━━━━━━━━━━━━━━━━━━━━┓\n",
       "┃\u001b[1m \u001b[0m\u001b[1m       Test metric       \u001b[0m\u001b[1m \u001b[0m┃\u001b[1m \u001b[0m\u001b[1m      DataLoader 0       \u001b[0m\u001b[1m \u001b[0m┃\n",
       "┡━━━━━━━━━━━━━━━━━━━━━━━━━━━╇━━━━━━━━━━━━━━━━━━━━━━━━━━━┩\n",
       "│\u001b[36m \u001b[0m\u001b[36m        accuracy         \u001b[0m\u001b[36m \u001b[0m│\u001b[35m \u001b[0m\u001b[35m   0.09989999979734421   \u001b[0m\u001b[35m \u001b[0m│\n",
       "│\u001b[36m \u001b[0m\u001b[36m        f1_macro         \u001b[0m\u001b[36m \u001b[0m│\u001b[35m \u001b[0m\u001b[35m   0.07487398386001587   \u001b[0m\u001b[35m \u001b[0m│\n",
       "│\u001b[36m \u001b[0m\u001b[36m        f1_micro         \u001b[0m\u001b[36m \u001b[0m│\u001b[35m \u001b[0m\u001b[35m   0.09989999979734421   \u001b[0m\u001b[35m \u001b[0m│\n",
       "│\u001b[36m \u001b[0m\u001b[36m          loss           \u001b[0m\u001b[36m \u001b[0m│\u001b[35m \u001b[0m\u001b[35m    2.383131742477417    \u001b[0m\u001b[35m \u001b[0m│\n",
       "│\u001b[36m \u001b[0m\u001b[36m     precision_macro     \u001b[0m\u001b[36m \u001b[0m│\u001b[35m \u001b[0m\u001b[35m   0.09914936870336533   \u001b[0m\u001b[35m \u001b[0m│\n",
       "│\u001b[36m \u001b[0m\u001b[36m      recall_macro       \u001b[0m\u001b[36m \u001b[0m│\u001b[35m \u001b[0m\u001b[35m   0.10110820829868317   \u001b[0m\u001b[35m \u001b[0m│\n",
       "└───────────────────────────┴───────────────────────────┘\n"
      ]
     },
     "metadata": {},
     "output_type": "display_data"
    },
    {
     "name": "stderr",
     "output_type": "stream",
     "text": [
      "\u001b[1;36m[2022-09-26 17:48:57] energizer/DEBUG\u001b[0m ~ \u001b[1;33mtrainer:466\u001b[0m$ \u001b[37mUsing `BALDStrategy`\u001b[0m\n",
      "\u001b[1;32m[2022-09-26 17:49:59] energizer/INFO\u001b[0m ~ \u001b[1;33mactive_learning_loop:193\u001b[0m$ \u001b[37mQueried 10 instance\u001b[0m\n",
      "\u001b[1;32m[2022-09-26 17:49:59] energizer/INFO\u001b[0m ~ \u001b[1;33mactive_learning_loop:281\u001b[0m$ \u001b[37mAnnotated 10 instances\u001b[0m\n",
      "\u001b[1;32m[2022-09-26 17:49:59] energizer/INFO\u001b[0m ~ \u001b[1;33mactive_learning_loop:282\u001b[0m$ \u001b[37mNew data statistics\n",
      "num_pool_batches: 430\n",
      "num_train_batches: 1\n",
      "pool_size: 54990\n",
      "total_data_size: 55000\n",
      "train_size: 10\n",
      "\u001b[0m\n"
     ]
    },
    {
     "name": "stdout",
     "output_type": "stream",
     "text": [
      "-------------------------Labelling Iteration 1--------------------------\n"
     ]
    },
    {
     "name": "stderr",
     "output_type": "stream",
     "text": [
      "\u001b[1;36m[2022-09-26 17:49:59] energizer/DEBUG\u001b[0m ~ \u001b[1;33mtrainer:470\u001b[0m$ \u001b[37mUsing underlying `MNISTCNNModel`\u001b[0m\n",
      "\u001b[1;36m[2022-09-26 17:49:59] energizer/DEBUG\u001b[0m ~ \u001b[1;33mactive_learning_loop:250\u001b[0m$ \u001b[37mMNISTCNNModel state dict has been re-initialized\u001b[0m\n",
      "`Trainer.fit` stopped: `max_epochs=3` reached.\n",
      "\u001b[1;36m[2022-09-26 17:50:04] energizer/DEBUG\u001b[0m ~ \u001b[1;33mtrainer:470\u001b[0m$ \u001b[37mUsing underlying `MNISTCNNModel`\u001b[0m\n"
     ]
    },
    {
     "data": {
      "text/html": [
       "<pre style=\"white-space:pre;overflow-x:auto;line-height:normal;font-family:Menlo,'DejaVu Sans Mono',consolas,'Courier New',monospace\">┏━━━━━━━━━━━━━━━━━━━━━━━━━━━┳━━━━━━━━━━━━━━━━━━━━━━━━━━━┓\n",
       "┃<span style=\"font-weight: bold\">        Test metric        </span>┃<span style=\"font-weight: bold\">       DataLoader 0        </span>┃\n",
       "┡━━━━━━━━━━━━━━━━━━━━━━━━━━━╇━━━━━━━━━━━━━━━━━━━━━━━━━━━┩\n",
       "│<span style=\"color: #008080; text-decoration-color: #008080\">         accuracy          </span>│<span style=\"color: #800080; text-decoration-color: #800080\">    0.10409999638795853    </span>│\n",
       "│<span style=\"color: #008080; text-decoration-color: #008080\">         f1_macro          </span>│<span style=\"color: #800080; text-decoration-color: #800080\">    0.07243089377880096    </span>│\n",
       "│<span style=\"color: #008080; text-decoration-color: #008080\">         f1_micro          </span>│<span style=\"color: #800080; text-decoration-color: #800080\">    0.10409999638795853    </span>│\n",
       "│<span style=\"color: #008080; text-decoration-color: #008080\">           loss            </span>│<span style=\"color: #800080; text-decoration-color: #800080\">     2.390538215637207     </span>│\n",
       "│<span style=\"color: #008080; text-decoration-color: #008080\">      precision_macro      </span>│<span style=\"color: #800080; text-decoration-color: #800080\">    0.10765033960342407    </span>│\n",
       "│<span style=\"color: #008080; text-decoration-color: #008080\">       recall_macro        </span>│<span style=\"color: #800080; text-decoration-color: #800080\">    0.1064007356762886     </span>│\n",
       "└───────────────────────────┴───────────────────────────┘\n",
       "</pre>\n"
      ],
      "text/plain": [
       "┏━━━━━━━━━━━━━━━━━━━━━━━━━━━┳━━━━━━━━━━━━━━━━━━━━━━━━━━━┓\n",
       "┃\u001b[1m \u001b[0m\u001b[1m       Test metric       \u001b[0m\u001b[1m \u001b[0m┃\u001b[1m \u001b[0m\u001b[1m      DataLoader 0       \u001b[0m\u001b[1m \u001b[0m┃\n",
       "┡━━━━━━━━━━━━━━━━━━━━━━━━━━━╇━━━━━━━━━━━━━━━━━━━━━━━━━━━┩\n",
       "│\u001b[36m \u001b[0m\u001b[36m        accuracy         \u001b[0m\u001b[36m \u001b[0m│\u001b[35m \u001b[0m\u001b[35m   0.10409999638795853   \u001b[0m\u001b[35m \u001b[0m│\n",
       "│\u001b[36m \u001b[0m\u001b[36m        f1_macro         \u001b[0m\u001b[36m \u001b[0m│\u001b[35m \u001b[0m\u001b[35m   0.07243089377880096   \u001b[0m\u001b[35m \u001b[0m│\n",
       "│\u001b[36m \u001b[0m\u001b[36m        f1_micro         \u001b[0m\u001b[36m \u001b[0m│\u001b[35m \u001b[0m\u001b[35m   0.10409999638795853   \u001b[0m\u001b[35m \u001b[0m│\n",
       "│\u001b[36m \u001b[0m\u001b[36m          loss           \u001b[0m\u001b[36m \u001b[0m│\u001b[35m \u001b[0m\u001b[35m    2.390538215637207    \u001b[0m\u001b[35m \u001b[0m│\n",
       "│\u001b[36m \u001b[0m\u001b[36m     precision_macro     \u001b[0m\u001b[36m \u001b[0m│\u001b[35m \u001b[0m\u001b[35m   0.10765033960342407   \u001b[0m\u001b[35m \u001b[0m│\n",
       "│\u001b[36m \u001b[0m\u001b[36m      recall_macro       \u001b[0m\u001b[36m \u001b[0m│\u001b[35m \u001b[0m\u001b[35m   0.1064007356762886    \u001b[0m\u001b[35m \u001b[0m│\n",
       "└───────────────────────────┴───────────────────────────┘\n"
      ]
     },
     "metadata": {},
     "output_type": "display_data"
    },
    {
     "name": "stderr",
     "output_type": "stream",
     "text": [
      "\u001b[1;36m[2022-09-26 17:50:08] energizer/DEBUG\u001b[0m ~ \u001b[1;33mtrainer:466\u001b[0m$ \u001b[37mUsing `BALDStrategy`\u001b[0m\n",
      "\u001b[1;32m[2022-09-26 17:51:22] energizer/INFO\u001b[0m ~ \u001b[1;33mactive_learning_loop:193\u001b[0m$ \u001b[37mQueried 10 instance\u001b[0m\n",
      "\u001b[1;32m[2022-09-26 17:51:22] energizer/INFO\u001b[0m ~ \u001b[1;33mactive_learning_loop:281\u001b[0m$ \u001b[37mAnnotated 10 instances\u001b[0m\n",
      "\u001b[1;32m[2022-09-26 17:51:22] energizer/INFO\u001b[0m ~ \u001b[1;33mactive_learning_loop:282\u001b[0m$ \u001b[37mNew data statistics\n",
      "num_pool_batches: 430\n",
      "num_train_batches: 1\n",
      "pool_size: 54980\n",
      "total_data_size: 55000\n",
      "train_size: 20\n",
      "\u001b[0m\n",
      "\u001b[1;36m[2022-09-26 17:51:22] energizer/DEBUG\u001b[0m ~ \u001b[1;33mtrainer:470\u001b[0m$ \u001b[37mUsing underlying `MNISTCNNModel`\u001b[0m\n",
      "\u001b[1;36m[2022-09-26 17:51:22] energizer/DEBUG\u001b[0m ~ \u001b[1;33mactive_learning_loop:250\u001b[0m$ \u001b[37mMNISTCNNModel state dict has been re-initialized\u001b[0m\n"
     ]
    },
    {
     "name": "stdout",
     "output_type": "stream",
     "text": [
      "-----------------------------Last fit_loop------------------------------\n"
     ]
    },
    {
     "name": "stderr",
     "output_type": "stream",
     "text": [
      "`Trainer.fit` stopped: `max_epochs=3` reached.\n",
      "\u001b[1;36m[2022-09-26 17:51:27] energizer/DEBUG\u001b[0m ~ \u001b[1;33mtrainer:470\u001b[0m$ \u001b[37mUsing underlying `MNISTCNNModel`\u001b[0m\n"
     ]
    },
    {
     "data": {
      "text/html": [
       "<pre style=\"white-space:pre;overflow-x:auto;line-height:normal;font-family:Menlo,'DejaVu Sans Mono',consolas,'Courier New',monospace\">┏━━━━━━━━━━━━━━━━━━━━━━━━━━━┳━━━━━━━━━━━━━━━━━━━━━━━━━━━┓\n",
       "┃<span style=\"font-weight: bold\">        Test metric        </span>┃<span style=\"font-weight: bold\">       DataLoader 0        </span>┃\n",
       "┡━━━━━━━━━━━━━━━━━━━━━━━━━━━╇━━━━━━━━━━━━━━━━━━━━━━━━━━━┩\n",
       "│<span style=\"color: #008080; text-decoration-color: #008080\">         accuracy          </span>│<span style=\"color: #800080; text-decoration-color: #800080\">    0.10339999943971634    </span>│\n",
       "│<span style=\"color: #008080; text-decoration-color: #008080\">         f1_macro          </span>│<span style=\"color: #800080; text-decoration-color: #800080\">    0.07382594794034958    </span>│\n",
       "│<span style=\"color: #008080; text-decoration-color: #008080\">         f1_micro          </span>│<span style=\"color: #800080; text-decoration-color: #800080\">    0.10339999943971634    </span>│\n",
       "│<span style=\"color: #008080; text-decoration-color: #008080\">           loss            </span>│<span style=\"color: #800080; text-decoration-color: #800080\">     2.378535270690918     </span>│\n",
       "│<span style=\"color: #008080; text-decoration-color: #008080\">      precision_macro      </span>│<span style=\"color: #800080; text-decoration-color: #800080\">    0.10162188857793808    </span>│\n",
       "│<span style=\"color: #008080; text-decoration-color: #008080\">       recall_macro        </span>│<span style=\"color: #800080; text-decoration-color: #800080\">    0.10477112978696823    </span>│\n",
       "└───────────────────────────┴───────────────────────────┘\n",
       "</pre>\n"
      ],
      "text/plain": [
       "┏━━━━━━━━━━━━━━━━━━━━━━━━━━━┳━━━━━━━━━━━━━━━━━━━━━━━━━━━┓\n",
       "┃\u001b[1m \u001b[0m\u001b[1m       Test metric       \u001b[0m\u001b[1m \u001b[0m┃\u001b[1m \u001b[0m\u001b[1m      DataLoader 0       \u001b[0m\u001b[1m \u001b[0m┃\n",
       "┡━━━━━━━━━━━━━━━━━━━━━━━━━━━╇━━━━━━━━━━━━━━━━━━━━━━━━━━━┩\n",
       "│\u001b[36m \u001b[0m\u001b[36m        accuracy         \u001b[0m\u001b[36m \u001b[0m│\u001b[35m \u001b[0m\u001b[35m   0.10339999943971634   \u001b[0m\u001b[35m \u001b[0m│\n",
       "│\u001b[36m \u001b[0m\u001b[36m        f1_macro         \u001b[0m\u001b[36m \u001b[0m│\u001b[35m \u001b[0m\u001b[35m   0.07382594794034958   \u001b[0m\u001b[35m \u001b[0m│\n",
       "│\u001b[36m \u001b[0m\u001b[36m        f1_micro         \u001b[0m\u001b[36m \u001b[0m│\u001b[35m \u001b[0m\u001b[35m   0.10339999943971634   \u001b[0m\u001b[35m \u001b[0m│\n",
       "│\u001b[36m \u001b[0m\u001b[36m          loss           \u001b[0m\u001b[36m \u001b[0m│\u001b[35m \u001b[0m\u001b[35m    2.378535270690918    \u001b[0m\u001b[35m \u001b[0m│\n",
       "│\u001b[36m \u001b[0m\u001b[36m     precision_macro     \u001b[0m\u001b[36m \u001b[0m│\u001b[35m \u001b[0m\u001b[35m   0.10162188857793808   \u001b[0m\u001b[35m \u001b[0m│\n",
       "│\u001b[36m \u001b[0m\u001b[36m      recall_macro       \u001b[0m\u001b[36m \u001b[0m│\u001b[35m \u001b[0m\u001b[35m   0.10477112978696823   \u001b[0m\u001b[35m \u001b[0m│\n",
       "└───────────────────────────┴───────────────────────────┘\n"
      ]
     },
     "metadata": {},
     "output_type": "display_data"
    },
    {
     "name": "stderr",
     "output_type": "stream",
     "text": [
      "\u001b[1;36m[2022-09-26 17:51:30] energizer/DEBUG\u001b[0m ~ \u001b[1;33mtrainer:466\u001b[0m$ \u001b[37mUsing `BALDStrategy`\u001b[0m\n"
     ]
    }
   ],
   "source": [
    "for name, strategy in strategies.items():\n",
    "    seed_everything(42)  # for reproducibility (e.g., dropout)\n",
    "\n",
    "    trainer = Trainer(**trainer_kwargs, enable_progress_bar=False)\n",
    "\n",
    "    results = trainer.active_fit(\n",
    "        model=strategy,\n",
    "        train_dataloaders=train_dl,\n",
    "        val_dataloaders=val_dl,\n",
    "        test_dataloaders=test_dl,\n",
    "    )\n",
    "\n",
    "    results_dict[name] = results.to_pandas()"
   ]
  },
  {
   "cell_type": "markdown",
   "metadata": {},
   "source": [
    "## Results\n",
    "Now let's look at the results"
   ]
  },
  {
   "cell_type": "code",
   "execution_count": 48,
   "metadata": {},
   "outputs": [],
   "source": [
    "results_df = pd.concat([v.assign(query_strategy=k) for k, v in results_dict.items()])\n",
    "results_df = results_df.melt(\n",
    "    id_vars=[\"train_size\", \"query_strategy\"], var_name=\"metrics\"\n",
    ")"
   ]
  },
  {
   "cell_type": "code",
   "execution_count": 87,
   "metadata": {},
   "outputs": [
    {
     "data": {
      "image/png": "[encoded data removed]",
      "text/plain": [
       "<Figure size 2400x400 with 6 Axes>"
      ]
     },
     "metadata": {},
     "output_type": "display_data"
    }
   ],
   "source": [
    "import warnings\n",
    "\n",
    "with warnings.catch_warnings():\n",
    "    warnings.simplefilter('ignore')\n",
    "\n",
    "    sns.set_style(\"darkgrid\")\n",
    "    g = sns.FacetGrid(\n",
    "        data=results_df,\n",
    "        col=\"metrics\",\n",
    "        sharex=True,\n",
    "        sharey=False,\n",
    "        height=4,\n",
    "        hue=\"query_strategy\",\n",
    "        legend_out=False,\n",
    "    )\n",
    "    p = g.map(sns.lineplot, \"train_size\", \"value\")\n",
    "    p = p.add_legend()\n",
    "    sns.move_legend(\n",
    "        p,\n",
    "        \"lower center\",\n",
    "        bbox_to_anchor=(0.5, 1),\n",
    "        ncol=5,\n",
    "        title=None,\n",
    "        frameon=False,\n",
    "    )\n",
    "    p.set(ylabel=None, xlabel=None)"
   ]
  }
 ],
 "metadata": {
  "kernelspec": {
   "display_name": "Python 3.9.13 ('energizer-dev')",
   "language": "python",
   "name": "python3"
  },
  "language_info": {
   "codemirror_mode": {
    "name": "ipython",
    "version": 3
   },
   "file_extension": ".py",
   "mimetype": "text/x-python",
   "name": "python",
   "nbconvert_exporter": "python",
   "pygments_lexer": "ipython3",
   "version": "3.9.13"
  },
  "orig_nbformat": 4,
  "vscode": {
   "interpreter": {
    "hash": "944ffd4f8dbdaa69d919c942d599fc997735694f55f2ea363be8b6b69a40ba5a"
   }
  }
 },
 "nbformat": 4,
 "nbformat_minor": 2
}
