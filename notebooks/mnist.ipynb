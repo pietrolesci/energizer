{
 "cells": [
  {
   "cell_type": "code",
   "execution_count": 1,
   "metadata": {},
   "outputs": [],
   "source": [
    "%load_ext autoreload\n",
    "%autoreload 2"
   ]
  },
  {
   "cell_type": "code",
   "execution_count": 2,
   "metadata": {},
   "outputs": [
    {
     "data": {
      "text/plain": [
       "10"
      ]
     },
     "execution_count": 2,
     "metadata": {},
     "output_type": "execute_result"
    }
   ],
   "source": [
    "from mnist_example import MNISTDataModule, MNISTModel\n",
    "\n",
    "datamodule = MNISTDataModule(batch_size=10)\n",
    "datamodule.setup()\n",
    "\n",
    "len(datamodule.test_dataloader())"
   ]
  },
  {
   "cell_type": "code",
   "execution_count": 3,
   "metadata": {},
   "outputs": [
    {
     "name": "stdout",
     "output_type": "stream",
     "text": [
      "10\n",
      "10\n"
     ]
    }
   ],
   "source": [
    "from energizer.data.datamodule import ActiveDataModule\n",
    "\n",
    "dm = ActiveDataModule(datamodule=datamodule)\n",
    "dm.setup()\n",
    "dm.setup_folds()\n",
    "\n",
    "dm.is_on_pool = False\n",
    "print(len(dm.test_dataloader()))\n",
    "dm.is_on_pool = True\n",
    "print(len(dm.test_dataloader()))"
   ]
  },
  {
   "cell_type": "code",
   "execution_count": 4,
   "metadata": {},
   "outputs": [],
   "source": [
    "# print(\n",
    "#     len(dm.pool_fold),\n",
    "#     len(dm.test_dataloader()),\n",
    "#     len(dm.train_fold),\n",
    "#     len(dm.train_dataloader()),\n",
    "# )\n",
    "# dm.label(list(range(100)))\n",
    "# print(\n",
    "#     len(dm.pool_fold),\n",
    "#     len(dm.test_dataloader()),\n",
    "#     len(dm.train_fold),\n",
    "#     len(dm.train_dataloader()),\n",
    "# )"
   ]
  },
  {
   "cell_type": "markdown",
   "metadata": {},
   "source": [
    "---"
   ]
  },
  {
   "cell_type": "code",
   "execution_count": 5,
   "metadata": {},
   "outputs": [],
   "source": [
    "import torch\n",
    "from pytorch_lightning import LightningModule\n",
    "from pytorch_lightning import Trainer as pl_Trainer\n",
    "from torch.utils.data import DataLoader\n",
    "\n",
    "from energizer.learners.acquisition_functions import entropy\n",
    "from energizer.learners.base import Deterministic, Learner\n",
    "from energizer.trainer import Trainer"
   ]
  },
  {
   "cell_type": "code",
   "execution_count": 6,
   "metadata": {},
   "outputs": [],
   "source": [
    "class ActiveLearner(Deterministic):\n",
    "    def pool_step(self, batch, *args, **kwargs) -> torch.Tensor:\n",
    "        x, _ = batch\n",
    "        logits = self(x)\n",
    "        scores = entropy(logits)\n",
    "        return scores\n",
    "\n",
    "\n",
    "model = MNISTModel()\n",
    "active_learner = ActiveLearner(model)"
   ]
  },
  {
   "cell_type": "code",
   "execution_count": 43,
   "metadata": {},
   "outputs": [
    {
     "name": "stderr",
     "output_type": "stream",
     "text": [
      "GPU available: False, used: False\n",
      "TPU available: False, using: 0 TPU cores\n",
      "IPU available: False, using: 0 IPUs\n",
      "HPU available: False, using: 0 HPUs\n",
      "\n",
      "  | Name    | Type       | Params\n",
      "---------------------------------------\n",
      "0 | learner | MNISTModel | 184 K \n",
      "---------------------------------------\n",
      "184 K     Trainable params\n",
      "0         Non-trainable params\n",
      "184 K     Total params\n",
      "0.738     Total estimated model params size (MB)\n"
     ]
    },
    {
     "name": "stdout",
     "output_type": "stream",
     "text": [
      "Pool DataLoader 0: 100%|██████████| 10/10 [00:00<00:00, 122.09it/s]\n",
      "Epoch 2: 100%|██████████| 1/1 [00:00<00:00, 51.56it/s, loss=1.33, v_num=9]"
     ]
    },
    {
     "name": "stderr",
     "output_type": "stream",
     "text": [
      "`Trainer.fit` stopped: `max_epochs=3` reached.\n"
     ]
    },
    {
     "name": "stdout",
     "output_type": "stream",
     "text": [
      "Epoch 2: 100%|██████████| 1/1 [00:00<00:00, 34.69it/s, loss=1.33, v_num=9]\n",
      "Testing DataLoader 0: 100%|██████████| 10/10 [00:00<00:00, 173.52it/s]\n",
      "Pool DataLoader 0: 100%|██████████| 10/10 [00:00<00:00, 98.26it/s] \n",
      "Epoch 2: 100%|██████████| 1/1 [00:00<00:00, 57.31it/s, loss=1.14, v_num=9]"
     ]
    },
    {
     "name": "stderr",
     "output_type": "stream",
     "text": [
      "`Trainer.fit` stopped: `max_epochs=3` reached.\n"
     ]
    },
    {
     "name": "stdout",
     "output_type": "stream",
     "text": [
      "Epoch 2: 100%|██████████| 1/1 [00:00<00:00, 38.04it/s, loss=1.14, v_num=9]\n"
     ]
    }
   ],
   "source": [
    "trainer = Trainer(\n",
    "    query_size=2,\n",
    "    max_epochs=3,\n",
    "    max_labelling_epochs=2,\n",
    "    log_every_n_steps=1,\n",
    "    test_after_labelling=True,\n",
    ")\n",
    "trainer.active_fit(active_learner, datamodule)"
   ]
  }
 ],
 "metadata": {
  "interpreter": {
   "hash": "195fd7177374df90e8fb0ddf6905c3c94c4a4300f1cc015456754f40bbdfd90b"
  },
  "kernelspec": {
   "display_name": "Python 3.7.11 64-bit ('energizer-dev': conda)",
   "language": "python",
   "name": "python3"
  },
  "language_info": {
   "codemirror_mode": {
    "name": "ipython",
    "version": 3
   },
   "file_extension": ".py",
   "mimetype": "text/x-python",
   "name": "python",
   "nbconvert_exporter": "python",
   "pygments_lexer": "ipython3",
   "version": "3.7.13"
  },
  "orig_nbformat": 4
 },
 "nbformat": 4,
 "nbformat_minor": 2
}
