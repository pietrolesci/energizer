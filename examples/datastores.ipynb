{
 "cells": [
  {
   "cell_type": "code",
   "execution_count": 1,
   "metadata": {},
   "outputs": [],
   "source": [
    "%load_ext autoreload\n",
    "%autoreload 2"
   ]
  },
  {
   "cell_type": "code",
   "execution_count": 2,
   "metadata": {},
   "outputs": [],
   "source": [
    "from datasets import load_dataset, load_from_disk\n",
    "from energizer.datastores.pandas import PandasDataStoreForSequenceClassification\n",
    "\n",
    "from transformers import AutoTokenizer\n",
    "from sentence_transformers import SentenceTransformer"
   ]
  },
  {
   "cell_type": "code",
   "execution_count": 3,
   "metadata": {},
   "outputs": [],
   "source": [
    "model_name = \"google/bert_uncased_L-2_H-128_A-2\"\n",
    "tokenizer = AutoTokenizer.from_pretrained(model_name)\n",
    "embedder = SentenceTransformer(\"all-MiniLM-L6-v2\")"
   ]
  },
  {
   "cell_type": "code",
   "execution_count": 4,
   "metadata": {},
   "outputs": [
    {
     "name": "stderr",
     "output_type": "stream",
     "text": [
      "Found cached dataset ag_news (/home/pl487/.cache/huggingface/datasets/ag_news/default/0.0.0/bc2bcb40336ace1a0374767fc29bb0296cdaf8a6da7298436239c54d79180548)\n"
     ]
    },
    {
     "data": {
      "application/vnd.jupyter.widget-view+json": {
       "model_id": "67f1b26002494922aecf3a1960f73afd",
       "version_major": 2,
       "version_minor": 0
      },
      "text/plain": [
       "  0%|          | 0/2 [00:00<?, ?it/s]"
      ]
     },
     "metadata": {},
     "output_type": "display_data"
    },
    {
     "data": {
      "application/vnd.jupyter.widget-view+json": {
       "model_id": "bec3dfbbfdf94b88831fbb17c9fb7ab9",
       "version_major": 2,
       "version_minor": 0
      },
      "text/plain": [
       "Map:   0%|          | 0/120000 [00:00<?, ? examples/s]"
      ]
     },
     "metadata": {},
     "output_type": "display_data"
    },
    {
     "data": {
      "application/vnd.jupyter.widget-view+json": {
       "model_id": "e7cdb314c3bb407680b45d0ca227cb22",
       "version_major": 2,
       "version_minor": 0
      },
      "text/plain": [
       "Saving the dataset (0/1 shards):   0%|          | 0/120000 [00:00<?, ? examples/s]"
      ]
     },
     "metadata": {},
     "output_type": "display_data"
    },
    {
     "data": {
      "application/vnd.jupyter.widget-view+json": {
       "model_id": "9d0f021df2774a45867cb4e787103a2c",
       "version_major": 2,
       "version_minor": 0
      },
      "text/plain": [
       "Saving the dataset (0/1 shards):   0%|          | 0/7600 [00:00<?, ? examples/s]"
      ]
     },
     "metadata": {},
     "output_type": "display_data"
    }
   ],
   "source": [
    "# load data\n",
    "dataset_dict = load_dataset(\"ag_news\").rename_columns({\"label\": \"labels\"})\n",
    "\n",
    "# embed training data\n",
    "dataset_dict[\"train\"] = (\n",
    "    dataset_dict[\"train\"]\n",
    "    .map(\n",
    "        lambda ex: {\"embedding\": embedder.encode(ex[\"text\"], device=\"cuda\", batch_size=512)},\n",
    "        batched=True,\n",
    "    )\n",
    ")\n",
    "\n",
    "dataset_dict.save_to_disk(\"agnews\")"
   ]
  },
  {
   "cell_type": "code",
   "execution_count": 5,
   "metadata": {},
   "outputs": [
    {
     "data": {
      "application/vnd.jupyter.widget-view+json": {
       "model_id": "bd89361c66004636ae5bf82ed6f8b783",
       "version_major": 2,
       "version_minor": 0
      },
      "text/plain": [
       "Map:   0%|          | 0/120000 [00:00<?, ? examples/s]"
      ]
     },
     "metadata": {},
     "output_type": "display_data"
    },
    {
     "data": {
      "application/vnd.jupyter.widget-view+json": {
       "model_id": "36870591a27a4051ba91f154bb15a46d",
       "version_major": 2,
       "version_minor": 0
      },
      "text/plain": [
       "Map:   0%|          | 0/7600 [00:00<?, ? examples/s]"
      ]
     },
     "metadata": {},
     "output_type": "display_data"
    }
   ],
   "source": [
    "dataset_dict = load_from_disk(\"agnews\").map(lambda ex: tokenizer(ex[\"text\"], return_token_type_ids=False), batched=True)"
   ]
  },
  {
   "cell_type": "code",
   "execution_count": 6,
   "metadata": {},
   "outputs": [
    {
     "data": {
      "text/plain": [
       "({'text': Value(dtype='string', id=None),\n",
       "  'labels': ClassLabel(names=['World', 'Sports', 'Business', 'Sci/Tech'], id=None),\n",
       "  'embedding': Sequence(feature=Value(dtype='float32', id=None), length=-1, id=None),\n",
       "  'input_ids': Sequence(feature=Value(dtype='int32', id=None), length=-1, id=None),\n",
       "  'attention_mask': Sequence(feature=Value(dtype='int8', id=None), length=-1, id=None)},\n",
       " {'text': Value(dtype='string', id=None),\n",
       "  'labels': ClassLabel(names=['World', 'Sports', 'Business', 'Sci/Tech'], id=None),\n",
       "  'input_ids': Sequence(feature=Value(dtype='int32', id=None), length=-1, id=None),\n",
       "  'attention_mask': Sequence(feature=Value(dtype='int8', id=None), length=-1, id=None)})"
      ]
     },
     "execution_count": 6,
     "metadata": {},
     "output_type": "execute_result"
    }
   ],
   "source": [
    "dataset_dict[\"train\"].features, dataset_dict[\"test\"].features"
   ]
  },
  {
   "cell_type": "code",
   "execution_count": 7,
   "metadata": {},
   "outputs": [],
   "source": [
    "datastore = PandasDataStoreForSequenceClassification()\n",
    "datastore.from_dataset_dict(\n",
    "    dataset_dict=dataset_dict, \n",
    "    tokenizer=tokenizer,\n",
    "    # on_cpu=[\"embedding\", \"text\"],\n",
    "    input_names=[\"input_ids\", \"attention_mask\"],\n",
    "    target_name=\"labels\",\n",
    ")"
   ]
  },
  {
   "cell_type": "code",
   "execution_count": 8,
   "metadata": {},
   "outputs": [],
   "source": [
    "datastore.add_index(\"embedding\", metric=\"l2\")"
   ]
  },
  {
   "cell_type": "code",
   "execution_count": 9,
   "metadata": {},
   "outputs": [
    {
     "data": {
      "application/vnd.jupyter.widget-view+json": {
       "model_id": "4629ea69dcaa4884875672e50e787493",
       "version_major": 2,
       "version_minor": 0
      },
      "text/plain": [
       "Saving the dataset (0/1 shards):   0%|          | 0/120000 [00:00<?, ? examples/s]"
      ]
     },
     "metadata": {},
     "output_type": "display_data"
    },
    {
     "data": {
      "application/vnd.jupyter.widget-view+json": {
       "model_id": "1c273661e56f4423af10cf2e0906c5bf",
       "version_major": 2,
       "version_minor": 0
      },
      "text/plain": [
       "Saving the dataset (0/1 shards):   0%|          | 0/7600 [00:00<?, ? examples/s]"
      ]
     },
     "metadata": {},
     "output_type": "display_data"
    }
   ],
   "source": [
    "datastore.save(\"./agnews_datastore\")"
   ]
  },
  {
   "cell_type": "code",
   "execution_count": 10,
   "metadata": {},
   "outputs": [],
   "source": [
    "ds = PandasDataStoreForSequenceClassification.load(\"./agnews_datastore\")"
   ]
  },
  {
   "cell_type": "code",
   "execution_count": 11,
   "metadata": {},
   "outputs": [
    {
     "data": {
      "text/plain": [
       "(['input_ids', 'attention_mask'], 'labels', [])"
      ]
     },
     "execution_count": 11,
     "metadata": {},
     "output_type": "execute_result"
    }
   ],
   "source": [
    "ds.input_names, ds.target_name, ds.on_cpu"
   ]
  },
  {
   "cell_type": "code",
   "execution_count": 12,
   "metadata": {},
   "outputs": [
    {
     "data": {
      "text/plain": [
       "(['input_ids', 'attention_mask'],\n",
       " 'labels',\n",
       " [],\n",
       " {'text': Value(dtype='string', id=None),\n",
       "  'labels': ClassLabel(names=['World', 'Sports', 'Business', 'Sci/Tech'], id=None),\n",
       "  'embedding': Sequence(feature=Value(dtype='float32', id=None), length=-1, id=None),\n",
       "  'input_ids': Sequence(feature=Value(dtype='int32', id=None), length=-1, id=None),\n",
       "  'attention_mask': Sequence(feature=Value(dtype='int8', id=None), length=-1, id=None),\n",
       "  'unique_id': Value(dtype='int64', id=None),\n",
       "  'is_labelled': Value(dtype='bool', id=None),\n",
       "  'is_validation': Value(dtype='bool', id=None),\n",
       "  'labelling_round': Value(dtype='int64', id=None)})"
      ]
     },
     "execution_count": 12,
     "metadata": {},
     "output_type": "execute_result"
    }
   ],
   "source": [
    "datastore.input_names, datastore.target_name, datastore.on_cpu, datastore._features"
   ]
  },
  {
   "cell_type": "code",
   "execution_count": 13,
   "metadata": {},
   "outputs": [
    {
     "data": {
      "text/plain": [
       "(['input_ids', 'attention_mask'],\n",
       " 'labels',\n",
       " [],\n",
       " {'text': Value(dtype='string', id=None),\n",
       "  'labels': ClassLabel(names=['World', 'Sports', 'Business', 'Sci/Tech'], id=None),\n",
       "  'embedding': Sequence(feature=Value(dtype='float32', id=None), length=-1, id=None),\n",
       "  'input_ids': Sequence(feature=Value(dtype='int32', id=None), length=-1, id=None),\n",
       "  'attention_mask': Sequence(feature=Value(dtype='int8', id=None), length=-1, id=None),\n",
       "  'unique_id': Value(dtype='int64', id=None),\n",
       "  'is_labelled': Value(dtype='bool', id=None),\n",
       "  'is_validation': Value(dtype='bool', id=None),\n",
       "  'labelling_round': Value(dtype='int64', id=None)})"
      ]
     },
     "execution_count": 13,
     "metadata": {},
     "output_type": "execute_result"
    }
   ],
   "source": [
    "ds.input_names, ds.target_name, ds.on_cpu, ds._features"
   ]
  },
  {
   "cell_type": "code",
   "execution_count": 14,
   "metadata": {},
   "outputs": [
    {
     "data": {
      "text/plain": [
       "({2: 30000, 3: 30000, 1: 30000, 0: 30000},\n",
       " {2: 30000, 3: 30000, 1: 30000, 0: 30000})"
      ]
     },
     "execution_count": 14,
     "metadata": {},
     "output_type": "execute_result"
    }
   ],
   "source": [
    "datastore.label_distribution(), ds.label_distribution()"
   ]
  },
  {
   "cell_type": "code",
   "execution_count": 15,
   "metadata": {},
   "outputs": [
    {
     "name": "stdout",
     "output_type": "stream",
     "text": [
      "query: Wall St. Bears Claw Back Into the Black (Reuters) Reuters - Short-sellers, Wall Street's dwindling\\band of ultra-cynics, are seeing green again.\n",
      "results:\n",
      "  - Wall St. Bears Claw Back Into the Black  NEW YORK (Reuters) - Short-sellers, Wall Street's dwindling  band of ultra-cynics, are seeing green again.\n",
      "  - Wall St. Seen Lower on Oil; Google Eyed (Reuters) Reuters - Sky-high oil prices are likely to\\pressure Wall Street once again on Thursday, while earnings\\news from tech giants Ciena (CIEN.N) and Nortel (NT.TO) and\\Google's (GOOG.O) awaited Nasdaq debut will also steer\\sentiment.\n",
      "  - Wall St. Seen Rising as Oil Prices Slip (Reuters) Reuters - U.S. stock futures pointed toward a\\higher Wall Street open on Tuesday after crude oil prices fell\\for a third day, easing investors' fears that costly oil would\\squeeze company profits and slow growth.\n",
      "  - Wall St. Seen Sliding After Jobless Data  NEW YORK (Reuters) - U.S. stock futures pointed to a  slightly lower open on Wall Street  on Thursday after a report  showed a larger-than-expected rise in claims for unemployment  benefits, a gauge of strength in the jobs market.\n",
      "  - Wall St Set to Dip, Bank Results Dominate (Reuters) Reuters - U.S. shares were seen opening a touch\\weaker on Wednesday as markets mull the Federal Reserve's\\cautious assessment of the economy and await third-quarter\\results Morgan Stanley  and Bear Stearns .\n",
      "  - Wall St. Seen Flat at Open as Oil Eyed  LONDON (Reuters) - Wall Street was expected to start little  changed on Friday as investors continue to fret over the impact  of high oil prices on earnings, while Boeing &lt;A HREF=\"http://www.investor.reuters.com/FullQuote.aspx?ticker=BA.N target=/stocks/quickinfo/fullquote\"&gt;BA.N&lt;/A&gt; will be  eyed after it reiterated its earnings forecast.\n",
      "  - Markets Brace for Earnings Week (Reuters) Reuters - The record price of oil has ruled Wall\\Street for months now and next week investors will get a close\\look at just who has profited the most from black gold's big\\run.\n",
      "  - Wall St Seen Edging Up on Crude Price  LONDON (Reuters) - Wall Street was expected edge higher at  Tuesday's opening as the price of U.S. crude oil eased, with  insurers firming after the head of Marsh   McLennan Cos.  Inc.&lt;A HREF=\"http://www.investor.reuters.com/FullQuote.aspx?ticker=MMC.N target=/stocks/quickinfo/fullquote\"&gt;MMC.N&lt;/A&gt; resigned.\n",
      "  - StocksView: Retail Spurs Wall St. Upturn (Reuters) Reuters - It's beginning to look a lot like\\Christmas on Wall Street: Retail stocks have been glowing for\\more than a month.\n",
      "  - StocksView: Retail Spurs Wall St. Upturn  NEW YORK (Reuters) - It's beginning to look a lot like  Christmas on Wall Street: Retail stocks have been glowing for  more than a month.\n"
     ]
    }
   ],
   "source": [
    "query = datastore.data.iloc[0]\n",
    "ids, dists = datastore.search(query[\"embedding\"], 10, query_in_set=True)\n",
    "\n",
    "print(f\"query: {query.text}\\nresults:\")\n",
    "print(\"  - \" + \"\\n  - \".join(datastore.get_by_ids(ids[0]).text))"
   ]
  },
  {
   "cell_type": "code",
   "execution_count": 16,
   "metadata": {},
   "outputs": [
    {
     "name": "stdout",
     "output_type": "stream",
     "text": [
      "query: Wall St. Bears Claw Back Into the Black (Reuters) Reuters - Short-sellers, Wall Street's dwindling\\band of ultra-cynics, are seeing green again.\n",
      "results:\n",
      "  - Wall St. Bears Claw Back Into the Black  NEW YORK (Reuters) - Short-sellers, Wall Street's dwindling  band of ultra-cynics, are seeing green again.\n",
      "  - Wall St. Seen Lower on Oil; Google Eyed (Reuters) Reuters - Sky-high oil prices are likely to\\pressure Wall Street once again on Thursday, while earnings\\news from tech giants Ciena (CIEN.N) and Nortel (NT.TO) and\\Google's (GOOG.O) awaited Nasdaq debut will also steer\\sentiment.\n",
      "  - Wall St. Seen Rising as Oil Prices Slip (Reuters) Reuters - U.S. stock futures pointed toward a\\higher Wall Street open on Tuesday after crude oil prices fell\\for a third day, easing investors' fears that costly oil would\\squeeze company profits and slow growth.\n",
      "  - Wall St. Seen Sliding After Jobless Data  NEW YORK (Reuters) - U.S. stock futures pointed to a  slightly lower open on Wall Street  on Thursday after a report  showed a larger-than-expected rise in claims for unemployment  benefits, a gauge of strength in the jobs market.\n",
      "  - Wall St Set to Dip, Bank Results Dominate (Reuters) Reuters - U.S. shares were seen opening a touch\\weaker on Wednesday as markets mull the Federal Reserve's\\cautious assessment of the economy and await third-quarter\\results Morgan Stanley  and Bear Stearns .\n",
      "  - Wall St. Seen Flat at Open as Oil Eyed  LONDON (Reuters) - Wall Street was expected to start little  changed on Friday as investors continue to fret over the impact  of high oil prices on earnings, while Boeing &lt;A HREF=\"http://www.investor.reuters.com/FullQuote.aspx?ticker=BA.N target=/stocks/quickinfo/fullquote\"&gt;BA.N&lt;/A&gt; will be  eyed after it reiterated its earnings forecast.\n",
      "  - Markets Brace for Earnings Week (Reuters) Reuters - The record price of oil has ruled Wall\\Street for months now and next week investors will get a close\\look at just who has profited the most from black gold's big\\run.\n",
      "  - Wall St Seen Edging Up on Crude Price  LONDON (Reuters) - Wall Street was expected edge higher at  Tuesday's opening as the price of U.S. crude oil eased, with  insurers firming after the head of Marsh   McLennan Cos.  Inc.&lt;A HREF=\"http://www.investor.reuters.com/FullQuote.aspx?ticker=MMC.N target=/stocks/quickinfo/fullquote\"&gt;MMC.N&lt;/A&gt; resigned.\n",
      "  - StocksView: Retail Spurs Wall St. Upturn (Reuters) Reuters - It's beginning to look a lot like\\Christmas on Wall Street: Retail stocks have been glowing for\\more than a month.\n",
      "  - StocksView: Retail Spurs Wall St. Upturn  NEW YORK (Reuters) - It's beginning to look a lot like  Christmas on Wall Street: Retail stocks have been glowing for  more than a month.\n"
     ]
    }
   ],
   "source": [
    "query = ds.data.iloc[0]\n",
    "ids, dists = ds.search(query[\"embedding\"], 10, query_in_set=True)\n",
    "\n",
    "print(f\"query: {query.text}\\nresults:\")\n",
    "print(\"  - \" + \"\\n  - \".join(ds.get_by_ids(ids[0]).text))"
   ]
  },
  {
   "cell_type": "code",
   "execution_count": 17,
   "metadata": {},
   "outputs": [
    {
     "data": {
      "text/plain": [
       "(['World', 'Sports', 'Business', 'Sci/Tech'],\n",
       " ['World', 'Sports', 'Business', 'Sci/Tech'])"
      ]
     },
     "execution_count": 17,
     "metadata": {},
     "output_type": "execute_result"
    }
   ],
   "source": [
    "datastore.labels, ds.labels"
   ]
  },
  {
   "cell_type": "code",
   "execution_count": 18,
   "metadata": {},
   "outputs": [
    {
     "data": {
      "text/plain": [
       "({'World': 0, 'Sports': 1, 'Business': 2, 'Sci/Tech': 3},\n",
       " {'World': 0, 'Sports': 1, 'Business': 2, 'Sci/Tech': 3})"
      ]
     },
     "execution_count": 18,
     "metadata": {},
     "output_type": "execute_result"
    }
   ],
   "source": [
    "datastore.label2id, ds.label2id"
   ]
  },
  {
   "cell_type": "code",
   "execution_count": 19,
   "metadata": {},
   "outputs": [
    {
     "data": {
      "text/plain": [
       "(None, None)"
      ]
     },
     "execution_count": 19,
     "metadata": {},
     "output_type": "execute_result"
    }
   ],
   "source": [
    "datastore.train_dataset(), ds.train_dataset()"
   ]
  },
  {
   "cell_type": "code",
   "execution_count": 20,
   "metadata": {},
   "outputs": [
    {
     "data": {
      "text/plain": [
       "2"
      ]
     },
     "execution_count": 20,
     "metadata": {},
     "output_type": "execute_result"
    }
   ],
   "source": [
    "datastore.label(indices=[0, 1], round=1, validation_perc=0.5)\n",
    "ds.label(indices=[0, 1], round=1, validation_perc=0.5)"
   ]
  },
  {
   "cell_type": "code",
   "execution_count": 21,
   "metadata": {},
   "outputs": [
    {
     "data": {
      "text/plain": [
       "(Dataset({\n",
       "     features: ['text', 'labels', 'embedding', 'input_ids', 'attention_mask', 'unique_id', 'is_labelled', 'is_validation', 'labelling_round'],\n",
       "     num_rows: 1\n",
       " }),\n",
       " None,\n",
       " Dataset({\n",
       "     features: ['text', 'labels', 'embedding', 'input_ids', 'attention_mask', 'unique_id', 'is_labelled', 'is_validation', 'labelling_round'],\n",
       "     num_rows: 1\n",
       " }),\n",
       " None)"
      ]
     },
     "execution_count": 21,
     "metadata": {},
     "output_type": "execute_result"
    }
   ],
   "source": [
    "datastore.train_dataset(), datastore.train_dataset(0), ds.train_dataset(), ds.train_dataset(0)"
   ]
  },
  {
   "cell_type": "code",
   "execution_count": 22,
   "metadata": {},
   "outputs": [
    {
     "data": {
      "text/plain": [
       "(Dataset({\n",
       "     features: ['text', 'embedding', 'input_ids', 'attention_mask', 'unique_id', 'is_labelled', 'is_validation', 'labelling_round'],\n",
       "     num_rows: 119998\n",
       " }),\n",
       " Dataset({\n",
       "     features: ['text', 'embedding', 'input_ids', 'attention_mask', 'unique_id', 'is_labelled', 'is_validation', 'labelling_round'],\n",
       "     num_rows: 120000\n",
       " }),\n",
       " Dataset({\n",
       "     features: ['text', 'embedding', 'input_ids', 'attention_mask', 'unique_id', 'is_labelled', 'is_validation', 'labelling_round'],\n",
       "     num_rows: 119998\n",
       " }),\n",
       " Dataset({\n",
       "     features: ['text', 'embedding', 'input_ids', 'attention_mask', 'unique_id', 'is_labelled', 'is_validation', 'labelling_round'],\n",
       "     num_rows: 120000\n",
       " }))"
      ]
     },
     "execution_count": 22,
     "metadata": {},
     "output_type": "execute_result"
    }
   ],
   "source": [
    "datastore.pool_dataset(), datastore.pool_dataset(0), ds.pool_dataset(), ds.pool_dataset(0)"
   ]
  },
  {
   "cell_type": "code",
   "execution_count": 23,
   "metadata": {},
   "outputs": [
    {
     "data": {
      "text/plain": [
       "(Dataset({\n",
       "     features: ['text', 'labels', 'embedding', 'input_ids', 'attention_mask', 'unique_id', 'is_labelled', 'is_validation', 'labelling_round'],\n",
       "     num_rows: 1\n",
       " }),\n",
       " None,\n",
       " Dataset({\n",
       "     features: ['text', 'labels', 'embedding', 'input_ids', 'attention_mask', 'unique_id', 'is_labelled', 'is_validation', 'labelling_round'],\n",
       "     num_rows: 1\n",
       " }),\n",
       " None)"
      ]
     },
     "execution_count": 23,
     "metadata": {},
     "output_type": "execute_result"
    }
   ],
   "source": [
    "datastore.validation_dataset(), datastore.validation_dataset(0), ds.validation_dataset(), ds.validation_dataset(0)"
   ]
  },
  {
   "cell_type": "code",
   "execution_count": 24,
   "metadata": {},
   "outputs": [
    {
     "data": {
      "text/plain": [
       "(Dataset({\n",
       "     features: ['text', 'labels', 'input_ids', 'attention_mask'],\n",
       "     num_rows: 7600\n",
       " }),\n",
       " Dataset({\n",
       "     features: ['text', 'labels', 'input_ids', 'attention_mask'],\n",
       "     num_rows: 7600\n",
       " }))"
      ]
     },
     "execution_count": 24,
     "metadata": {},
     "output_type": "execute_result"
    }
   ],
   "source": [
    "datastore.test_dataset(), ds.test_dataset()"
   ]
  },
  {
   "cell_type": "code",
   "execution_count": 25,
   "metadata": {},
   "outputs": [
    {
     "data": {
      "text/plain": [
       "(None, None)"
      ]
     },
     "execution_count": 25,
     "metadata": {},
     "output_type": "execute_result"
    }
   ],
   "source": [
    "datastore.prepare_for_loading(), ds.prepare_for_loading()"
   ]
  },
  {
   "cell_type": "code",
   "execution_count": 26,
   "metadata": {},
   "outputs": [
    {
     "data": {
      "text/plain": [
       "({'input_ids': tensor([[  101,  2813,  2358,  1012,  6468, 15020,  2067,  2046,  1996,  2304,\n",
       "            1006, 26665,  1007, 26665,  1011,  2460,  1011, 19041,  1010,  2813,\n",
       "            2395,  1005,  1055,  1040, 11101,  2989,  1032,  2316,  1997, 11087,\n",
       "            1011, 22330,  8713,  2015,  1010,  2024,  3773,  2665,  2153,  1012,\n",
       "             102]]),\n",
       "  'attention_mask': tensor([[1, 1, 1, 1, 1, 1, 1, 1, 1, 1, 1, 1, 1, 1, 1, 1, 1, 1, 1, 1, 1, 1, 1, 1,\n",
       "           1, 1, 1, 1, 1, 1, 1, 1, 1, 1, 1, 1, 1, 1, 1, 1, 1]]),\n",
       "  'labels': tensor([2]),\n",
       "  <InputKeys.ON_CPU: 'on_cpu'>: {<SpecialKeys.ID: 'unique_id'>: [0]}},\n",
       " {'input_ids': tensor([[  101,  2813,  2358,  1012,  6468, 15020,  2067,  2046,  1996,  2304,\n",
       "            1006, 26665,  1007, 26665,  1011,  2460,  1011, 19041,  1010,  2813,\n",
       "            2395,  1005,  1055,  1040, 11101,  2989,  1032,  2316,  1997, 11087,\n",
       "            1011, 22330,  8713,  2015,  1010,  2024,  3773,  2665,  2153,  1012,\n",
       "             102]]),\n",
       "  'attention_mask': tensor([[1, 1, 1, 1, 1, 1, 1, 1, 1, 1, 1, 1, 1, 1, 1, 1, 1, 1, 1, 1, 1, 1, 1, 1,\n",
       "           1, 1, 1, 1, 1, 1, 1, 1, 1, 1, 1, 1, 1, 1, 1, 1, 1]]),\n",
       "  'labels': tensor([2]),\n",
       "  <InputKeys.ON_CPU: 'on_cpu'>: {<SpecialKeys.ID: 'unique_id'>: [0]}})"
      ]
     },
     "execution_count": 26,
     "metadata": {},
     "output_type": "execute_result"
    }
   ],
   "source": [
    "datastore.show_batch(), ds.show_batch()"
   ]
  },
  {
   "cell_type": "code",
   "execution_count": null,
   "metadata": {},
   "outputs": [],
   "source": []
  }
 ],
 "metadata": {
  "kernelspec": {
   "display_name": "energizer",
   "language": "python",
   "name": "python3"
  },
  "language_info": {
   "codemirror_mode": {
    "name": "ipython",
    "version": 3
   },
   "file_extension": ".py",
   "mimetype": "text/x-python",
   "name": "python",
   "nbconvert_exporter": "python",
   "pygments_lexer": "ipython3",
   "version": "3.9.16"
  },
  "orig_nbformat": 4
 },
 "nbformat": 4,
 "nbformat_minor": 2
}
