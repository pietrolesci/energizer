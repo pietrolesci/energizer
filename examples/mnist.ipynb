{
 "cells": [
  {
   "cell_type": "code",
   "execution_count": 1,
   "metadata": {},
   "outputs": [],
   "source": [
    "%load_ext autoreload\n",
    "%autoreload 2"
   ]
  },
  {
   "cell_type": "code",
   "execution_count": 2,
   "metadata": {},
   "outputs": [],
   "source": [
    "from typing import Dict, Tuple\n",
    "\n",
    "import torch\n",
    "import torch.nn.functional as F\n",
    "from pytorch_lightning import LightningModule\n",
    "from torch import Tensor, nn\n",
    "from torch.utils.data import DataLoader, random_split\n",
    "from torchvision import transforms\n",
    "from torchvision.datasets import MNIST\n",
    "\n",
    "from energizer import DeterministicMixin, MCDropoutMixin, Trainer\n",
    "from energizer.acquisition_functions import entropy, expected_entropy\n",
    "from energizer.query_strategies.base import AccumulatorStrategy, RandomStrategy"
   ]
  },
  {
   "cell_type": "code",
   "execution_count": 3,
   "metadata": {},
   "outputs": [],
   "source": [
    "# load and preprocess datasets\n",
    "data_dir = \"./data\"\n",
    "preprocessing_pipe = transforms.Compose(\n",
    "    [\n",
    "        transforms.ToTensor(),\n",
    "        transforms.Normalize((0.1307,), (0.3081,)),\n",
    "    ]\n",
    ")\n",
    "train_set = MNIST(data_dir, train=True, download=False, transform=preprocessing_pipe)\n",
    "test_set = MNIST(data_dir, train=False, download=False, transform=preprocessing_pipe)\n",
    "train_set, val_set = random_split(train_set, [55000, 5000])\n",
    "\n",
    "# create dataloaders\n",
    "batch_size = 32\n",
    "eval_batch_size = 32  # this is use when evaluating on the pool too\n",
    "train_dl = DataLoader(train_set, batch_size=batch_size)\n",
    "val_dl = DataLoader(val_set, batch_size=eval_batch_size)\n",
    "test_dl = DataLoader(test_set, batch_size=eval_batch_size)"
   ]
  },
  {
   "cell_type": "code",
   "execution_count": 4,
   "metadata": {},
   "outputs": [],
   "source": [
    "class MNISTModel(LightningModule):\n",
    "    def __init__(self) -> None:\n",
    "        super().__init__()\n",
    "        self.model = nn.Sequential(\n",
    "            nn.Conv2d(1, 32, kernel_size=5),\n",
    "            nn.Dropout2d(),\n",
    "            nn.MaxPool2d(kernel_size=2),\n",
    "            nn.ReLU(),\n",
    "            nn.Conv2d(32, 64, kernel_size=5),\n",
    "            nn.Dropout2d(),\n",
    "            nn.MaxPool2d(kernel_size=2),\n",
    "            nn.ReLU(),\n",
    "            nn.Flatten(),\n",
    "            nn.Linear(1024, 128),\n",
    "            nn.Dropout(),\n",
    "            nn.Linear(128, 10),\n",
    "        )\n",
    "\n",
    "    def forward(self, x: Tensor) -> Tensor:\n",
    "        return self.model(x)\n",
    "\n",
    "    def loss(self, logits: Tensor, targets: Tensor) -> Tensor:\n",
    "        return F.cross_entropy(logits, targets)\n",
    "\n",
    "    def step(self, batch: Tuple[Tensor, Tensor], stage: str) -> Dict[str, Tensor]:\n",
    "        x, y = batch\n",
    "        logits = self(x)\n",
    "        loss = self.loss(logits, y)\n",
    "        self.log(f\"{stage}/loss\", loss)\n",
    "        return {\"loss\": loss, \"logits\": logits}\n",
    "\n",
    "    def training_step(self, batch: Tuple[Tensor, Tensor], batch_idx: int) -> Dict[str, Tensor]:\n",
    "        return self.step(batch, \"train\")\n",
    "\n",
    "    def validation_step(self, batch: Tuple[Tensor, Tensor], batch_idx: int) -> Dict[str, Tensor]:\n",
    "        return self.step(batch, \"val\")\n",
    "\n",
    "    def test_step(self, batch: Tuple[Tensor, Tensor], batch_idx: int) -> Dict[str, Tensor]:\n",
    "        return self.step(batch, \"test\")\n",
    "\n",
    "    def configure_optimizers(self) -> None:\n",
    "        return torch.optim.SGD(self.parameters(), lr=0.01)\n",
    "\n",
    "\n",
    "class DeterministicMNISTModel(DeterministicMixin):\n",
    "    \"\"\"A implememntation of the `Entropy` active learning strategy.\"\"\"\n",
    "\n",
    "    def pool_step(self, batch: Tuple[Tensor, Tensor], batch_idx: int) -> Tensor:\n",
    "        # define how to perform the forward pass\n",
    "        x, _ = batch\n",
    "        logits = self(x)\n",
    "        # use an acquisition/scoring function\n",
    "        scores = entropy(logits)\n",
    "        return scores\n",
    "\n",
    "\n",
    "class StochasticMNISTModel(MCDropoutMixin):\n",
    "    \"\"\"A implememntation of the `Entropy` active learning strategy.\n",
    "\n",
    "    In this case we use the MCDropout technique to compute model\n",
    "    uncertainty. Accordigly, we need to use `expected_entropy` as\n",
    "    the acquisition function.\n",
    "    \"\"\"\n",
    "\n",
    "    def loss(logits: Tensor, targets: Tensor) -> Tensor:\n",
    "        # logits has now shape:\n",
    "        # [num_samples, num_classes, num_iterations]\n",
    "        # average over num_iterations\n",
    "        logits = logits.mean(-1)\n",
    "        return F.cross_entropy(logits, targets)\n",
    "\n",
    "    def pool_step(self, batch: Tuple[Tensor, Tensor], batch_idx: int) -> Tensor:\n",
    "        \"\"\"A implememntation of the `Entropy` active learning strategy.\"\"\"\n",
    "        # define how to perform the forward pass\n",
    "        x, _ = batch\n",
    "        logits = self(x)\n",
    "        # use an acquisition/scoring function\n",
    "        # NOTE: since we are using MCDropout we need to use the\n",
    "        # `expected_entropy` acquisition function\n",
    "        scores = expected_entropy(logits)\n",
    "        return scores"
   ]
  },
  {
   "cell_type": "code",
   "execution_count": 5,
   "metadata": {},
   "outputs": [],
   "source": [
    "class EntropyStrategy(AccumulatorStrategy):\n",
    "    \"\"\"A implememntation of the `Entropy` active learning strategy.\"\"\"\n",
    "\n",
    "    def pool_step(self, batch: Tuple[Tensor, Tensor], batch_idx: int) -> Tensor:\n",
    "        # define how to perform the forward pass\n",
    "        x, _ = batch\n",
    "        logits = self(x)\n",
    "        # use an acquisition/scoring function\n",
    "        scores = entropy(logits)\n",
    "        return scores"
   ]
  },
  {
   "cell_type": "code",
   "execution_count": 6,
   "metadata": {},
   "outputs": [],
   "source": [
    "model = MNISTModel()\n",
    "deterministic_model = DeterministicMNISTModel(model)\n",
    "stochastic_model = StochasticMNISTModel(model)\n",
    "entropy_strategy = EntropyStrategy(model)\n",
    "random_strategy = RandomStrategy(model)"
   ]
  },
  {
   "cell_type": "code",
   "execution_count": 7,
   "metadata": {},
   "outputs": [
    {
     "data": {
      "text/plain": [
       "(torch.Size([32, 10]),\n",
       " torch.Size([32, 10]),\n",
       " torch.Size([32, 10, 10]),\n",
       " torch.Size([32, 10]),\n",
       " torch.Size([32, 10]))"
      ]
     },
     "execution_count": 7,
     "metadata": {},
     "output_type": "execute_result"
    }
   ],
   "source": [
    "x, _ = next(iter(train_dl))\n",
    "model(x).shape, deterministic_model(x).shape, stochastic_model(x).shape, entropy_strategy(x).shape, random_strategy(x).shape"
   ]
  },
  {
   "cell_type": "code",
   "execution_count": 8,
   "metadata": {},
   "outputs": [
    {
     "name": "stderr",
     "output_type": "stream",
     "text": [
      "GPU available: False, used: False\n",
      "TPU available: False, using: 0 TPU cores\n",
      "IPU available: False, using: 0 IPUs\n",
      "HPU available: False, using: 0 HPUs\n",
      "\n",
      "  | Name  | Type       | Params\n",
      "-------------------------------------\n",
      "0 | model | Sequential | 184 K \n",
      "-------------------------------------\n",
      "184 K     Trainable params\n",
      "0         Non-trainable params\n",
      "184 K     Total params\n",
      "0.738     Total estimated model params size (MB)\n"
     ]
    },
    {
     "name": "stdout",
     "output_type": "stream",
     "text": [
      "                                                                   "
     ]
    },
    {
     "name": "stderr",
     "output_type": "stream",
     "text": [
      "/Users/pietrolesci/miniconda3/envs/energizer-dev/lib/python3.9/site-packages/pytorch_lightning/trainer/connectors/data_connector.py:219: PossibleUserWarning: The dataloader, val_dataloader 0, does not have many workers which may be a bottleneck. Consider increasing the value of the `num_workers` argument` (try 12 which is the number of cpus on this machine) in the `DataLoader` init to improve performance.\n",
      "  rank_zero_warn(\n",
      "Using `BaseQueryStrategy`\n",
      "Using `BaseQueryStrategy`\n",
      "/Users/pietrolesci/miniconda3/envs/energizer-dev/lib/python3.9/site-packages/pytorch_lightning/trainer/connectors/data_connector.py:219: PossibleUserWarning: The dataloader, pool_dataloader 0, does not have many workers which may be a bottleneck. Consider increasing the value of the `num_workers` argument` (try 12 which is the number of cpus on this machine) in the `DataLoader` init to improve performance.\n",
      "  rank_zero_warn(\n"
     ]
    },
    {
     "name": "stdout",
     "output_type": "stream",
     "text": [
      "Pool DataLoader 0: 100%|██████████| 10/10 [00:00<00:00, 41.76it/s]"
     ]
    },
    {
     "name": "stderr",
     "output_type": "stream",
     "text": [
      "/Users/pietrolesci/miniconda3/envs/energizer-dev/lib/python3.9/site-packages/torchmetrics/utilities/prints.py:36: UserWarning: The ``compute`` method of metric AccumulateTopK was called before the ``update`` method which may lead to errors, as metric states have not yet been updated.\n",
      "  warnings.warn(*args, **kwargs)\n",
      "Using underlying `LightningModule`\n"
     ]
    },
    {
     "name": "stdout",
     "output_type": "stream",
     "text": [
      "\n"
     ]
    },
    {
     "name": "stderr",
     "output_type": "stream",
     "text": [
      "/Users/pietrolesci/miniconda3/envs/energizer-dev/lib/python3.9/site-packages/pytorch_lightning/trainer/connectors/data_connector.py:219: PossibleUserWarning: The dataloader, train_dataloader, does not have many workers which may be a bottleneck. Consider increasing the value of the `num_workers` argument` (try 12 which is the number of cpus on this machine) in the `DataLoader` init to improve performance.\n",
      "  rank_zero_warn(\n"
     ]
    },
    {
     "name": "stdout",
     "output_type": "stream",
     "text": [
      "Epoch 2: 100%|██████████| 11/11 [00:00<00:00, 32.90it/s, loss=1.18, v_num=14]"
     ]
    },
    {
     "name": "stderr",
     "output_type": "stream",
     "text": [
      "`Trainer.fit` stopped: `max_epochs=3` reached.\n"
     ]
    },
    {
     "name": "stdout",
     "output_type": "stream",
     "text": [
      "Epoch 2: 100%|██████████| 11/11 [00:00<00:00, 32.12it/s, loss=1.18, v_num=14]"
     ]
    },
    {
     "name": "stderr",
     "output_type": "stream",
     "text": [
      "Using underlying `LightningModule`\n",
      "/Users/pietrolesci/miniconda3/envs/energizer-dev/lib/python3.9/site-packages/pytorch_lightning/trainer/connectors/data_connector.py:219: PossibleUserWarning: The dataloader, test_dataloader 0, does not have many workers which may be a bottleneck. Consider increasing the value of the `num_workers` argument` (try 12 which is the number of cpus on this machine) in the `DataLoader` init to improve performance.\n",
      "  rank_zero_warn(\n"
     ]
    },
    {
     "name": "stdout",
     "output_type": "stream",
     "text": [
      "\n",
      "Testing DataLoader 0: 100%|██████████| 10/10 [00:00<00:00, 29.72it/s]"
     ]
    },
    {
     "name": "stderr",
     "output_type": "stream",
     "text": [
      "Using `BaseQueryStrategy`\n"
     ]
    },
    {
     "name": "stdout",
     "output_type": "stream",
     "text": [
      "\n",
      "Pool DataLoader 0: 100%|██████████| 10/10 [00:00<00:00, 35.38it/s]"
     ]
    },
    {
     "name": "stderr",
     "output_type": "stream",
     "text": [
      "Using underlying `LightningModule`\n"
     ]
    },
    {
     "name": "stdout",
     "output_type": "stream",
     "text": [
      "\n",
      "Epoch 2: 100%|██████████| 11/11 [00:00<00:00, 24.44it/s, loss=1.55, v_num=14]"
     ]
    },
    {
     "name": "stderr",
     "output_type": "stream",
     "text": [
      "`Trainer.fit` stopped: `max_epochs=3` reached.\n"
     ]
    },
    {
     "name": "stdout",
     "output_type": "stream",
     "text": [
      "Epoch 2: 100%|██████████| 11/11 [00:00<00:00, 24.00it/s, loss=1.55, v_num=14]"
     ]
    },
    {
     "name": "stderr",
     "output_type": "stream",
     "text": [
      "Using underlying `LightningModule`\n"
     ]
    },
    {
     "name": "stdout",
     "output_type": "stream",
     "text": [
      "\n",
      "Testing DataLoader 0: 100%|██████████| 10/10 [00:00<00:00, 43.70it/s]"
     ]
    },
    {
     "name": "stderr",
     "output_type": "stream",
     "text": [
      "Using `BaseQueryStrategy`\n"
     ]
    },
    {
     "name": "stdout",
     "output_type": "stream",
     "text": [
      "\n",
      "Pool DataLoader 0: 100%|██████████| 10/10 [00:00<00:00, 35.18it/s]\n"
     ]
    },
    {
     "name": "stderr",
     "output_type": "stream",
     "text": [
      "Using underlying `LightningModule`\n"
     ]
    },
    {
     "name": "stdout",
     "output_type": "stream",
     "text": [
      "Epoch 2: 100%|██████████| 11/11 [00:00<00:00, 31.38it/s, loss=1.63, v_num=14]"
     ]
    },
    {
     "name": "stderr",
     "output_type": "stream",
     "text": [
      "`Trainer.fit` stopped: `max_epochs=3` reached.\n"
     ]
    },
    {
     "name": "stdout",
     "output_type": "stream",
     "text": [
      "Epoch 2: 100%|██████████| 11/11 [00:00<00:00, 30.42it/s, loss=1.63, v_num=14]"
     ]
    },
    {
     "name": "stderr",
     "output_type": "stream",
     "text": [
      "Using underlying `LightningModule`\n"
     ]
    },
    {
     "name": "stdout",
     "output_type": "stream",
     "text": [
      "\n",
      "Testing DataLoader 0: 100%|██████████| 10/10 [00:00<00:00, 38.74it/s]"
     ]
    },
    {
     "name": "stderr",
     "output_type": "stream",
     "text": [
      "Using `BaseQueryStrategy`\n"
     ]
    },
    {
     "name": "stdout",
     "output_type": "stream",
     "text": [
      "\n",
      "Pool DataLoader 0: 100%|██████████| 10/10 [00:00<00:00, 53.14it/s]\n"
     ]
    },
    {
     "name": "stderr",
     "output_type": "stream",
     "text": [
      "Using underlying `LightningModule`\n"
     ]
    },
    {
     "name": "stdout",
     "output_type": "stream",
     "text": [
      "Epoch 2: 100%|██████████| 11/11 [00:00<00:00, 31.59it/s, loss=1.76, v_num=14]"
     ]
    },
    {
     "name": "stderr",
     "output_type": "stream",
     "text": [
      "`Trainer.fit` stopped: `max_epochs=3` reached.\n"
     ]
    },
    {
     "name": "stdout",
     "output_type": "stream",
     "text": [
      "Epoch 2: 100%|██████████| 11/11 [00:00<00:00, 30.96it/s, loss=1.76, v_num=14]"
     ]
    },
    {
     "name": "stderr",
     "output_type": "stream",
     "text": [
      "Using `BaseQueryStrategy`\n"
     ]
    },
    {
     "name": "stdout",
     "output_type": "stream",
     "text": [
      "\n"
     ]
    },
    {
     "data": {
      "text/plain": [
       "{'total_data_size': 55000,\n",
       " 'train_size': 4,\n",
       " 'pool_size': 54996,\n",
       " 'num_train_batches': 1,\n",
       " 'num_pool_batches': 1719}"
      ]
     },
     "execution_count": 8,
     "metadata": {},
     "output_type": "execute_result"
    }
   ],
   "source": [
    "trainer = Trainer(\n",
    "    query_size=2,\n",
    "    max_epochs=3,\n",
    "    max_labelling_epochs=4,\n",
    "    total_budget=5,\n",
    "    log_every_n_steps=1,\n",
    "    test_after_labelling=True,\n",
    "    # for testing purposes\n",
    "    limit_train_batches=10,\n",
    "    limit_val_batches=10,\n",
    "    limit_test_batches=10,\n",
    "    limit_pool_batches=10,\n",
    ")\n",
    "\n",
    "trainer.active_fit(\n",
    "    model=entropy_strategy,\n",
    "    train_dataloaders=train_dl,\n",
    "    val_dataloaders=val_dl,\n",
    "    test_dataloaders=test_dl,\n",
    ")\n",
    "\n",
    "trainer.datamodule.stats"
   ]
  },
  {
   "cell_type": "code",
   "execution_count": 9,
   "metadata": {},
   "outputs": [
    {
     "name": "stderr",
     "output_type": "stream",
     "text": [
      "GPU available: False, used: False\n",
      "TPU available: False, using: 0 TPU cores\n",
      "IPU available: False, using: 0 IPUs\n",
      "HPU available: False, using: 0 HPUs\n",
      "\n",
      "  | Name  | Type       | Params\n",
      "-------------------------------------\n",
      "0 | model | Sequential | 184 K \n",
      "-------------------------------------\n",
      "184 K     Trainable params\n",
      "0         Non-trainable params\n",
      "184 K     Total params\n",
      "0.738     Total estimated model params size (MB)\n"
     ]
    },
    {
     "name": "stdout",
     "output_type": "stream",
     "text": [
      "                                                                   "
     ]
    },
    {
     "name": "stderr",
     "output_type": "stream",
     "text": [
      "Using `BaseQueryStrategy`\n",
      "Using `BaseQueryStrategy`\n",
      "Using underlying `LightningModule`\n"
     ]
    },
    {
     "name": "stdout",
     "output_type": "stream",
     "text": [
      "Epoch 2: 100%|██████████| 11/11 [00:00<00:00, 37.27it/s, loss=2.06, v_num=15]"
     ]
    },
    {
     "name": "stderr",
     "output_type": "stream",
     "text": [
      "`Trainer.fit` stopped: `max_epochs=3` reached.\n"
     ]
    },
    {
     "name": "stdout",
     "output_type": "stream",
     "text": [
      "Epoch 2: 100%|██████████| 11/11 [00:00<00:00, 35.63it/s, loss=2.06, v_num=15]"
     ]
    },
    {
     "name": "stderr",
     "output_type": "stream",
     "text": [
      "Using underlying `LightningModule`\n"
     ]
    },
    {
     "name": "stdout",
     "output_type": "stream",
     "text": [
      "\n",
      "Testing DataLoader 0: 100%|██████████| 10/10 [00:00<00:00, 44.41it/s]"
     ]
    },
    {
     "name": "stderr",
     "output_type": "stream",
     "text": [
      "Using `BaseQueryStrategy`\n",
      "Using underlying `LightningModule`\n"
     ]
    },
    {
     "name": "stdout",
     "output_type": "stream",
     "text": [
      "\n",
      "Epoch 2: 100%|██████████| 11/11 [00:00<00:00, 26.33it/s, loss=2.1, v_num=15] "
     ]
    },
    {
     "name": "stderr",
     "output_type": "stream",
     "text": [
      "`Trainer.fit` stopped: `max_epochs=3` reached.\n"
     ]
    },
    {
     "name": "stdout",
     "output_type": "stream",
     "text": [
      "Epoch 2: 100%|██████████| 11/11 [00:00<00:00, 25.76it/s, loss=2.1, v_num=15]"
     ]
    },
    {
     "name": "stderr",
     "output_type": "stream",
     "text": [
      "Using underlying `LightningModule`\n"
     ]
    },
    {
     "name": "stdout",
     "output_type": "stream",
     "text": [
      "\n",
      "Testing DataLoader 0: 100%|██████████| 10/10 [00:00<00:00, 39.91it/s]"
     ]
    },
    {
     "name": "stderr",
     "output_type": "stream",
     "text": [
      "Using `BaseQueryStrategy`\n"
     ]
    },
    {
     "name": "stdout",
     "output_type": "stream",
     "text": [
      "\n"
     ]
    },
    {
     "name": "stderr",
     "output_type": "stream",
     "text": [
      "Using underlying `LightningModule`\n"
     ]
    },
    {
     "name": "stdout",
     "output_type": "stream",
     "text": [
      "Epoch 2: 100%|██████████| 11/11 [00:00<00:00, 35.78it/s, loss=2.15, v_num=15]"
     ]
    },
    {
     "name": "stderr",
     "output_type": "stream",
     "text": [
      "`Trainer.fit` stopped: `max_epochs=3` reached.\n"
     ]
    },
    {
     "name": "stdout",
     "output_type": "stream",
     "text": [
      "Epoch 2: 100%|██████████| 11/11 [00:00<00:00, 34.90it/s, loss=2.15, v_num=15]"
     ]
    },
    {
     "name": "stderr",
     "output_type": "stream",
     "text": [
      "Using `BaseQueryStrategy`\n"
     ]
    },
    {
     "name": "stdout",
     "output_type": "stream",
     "text": [
      "\n"
     ]
    },
    {
     "data": {
      "text/plain": [
       "{'total_data_size': 55000,\n",
       " 'train_size': 6,\n",
       " 'pool_size': 54994,\n",
       " 'num_train_batches': 1,\n",
       " 'num_pool_batches': 1719}"
      ]
     },
     "execution_count": 9,
     "metadata": {},
     "output_type": "execute_result"
    }
   ],
   "source": [
    "trainer = Trainer(\n",
    "    query_size=2,\n",
    "    max_epochs=3,\n",
    "    max_labelling_epochs=4,\n",
    "    total_budget=5,\n",
    "    log_every_n_steps=1,\n",
    "    test_after_labelling=True,\n",
    "    # for testing purposes\n",
    "    limit_train_batches=10,\n",
    "    limit_val_batches=10,\n",
    "    limit_test_batches=10,\n",
    "    limit_pool_batches=10,\n",
    ")\n",
    "\n",
    "trainer.active_fit(\n",
    "    model=random_strategy,\n",
    "    train_dataloaders=train_dl,\n",
    "    val_dataloaders=val_dl,\n",
    "    test_dataloaders=test_dl,\n",
    ")\n",
    "\n",
    "trainer.datamodule.stats"
   ]
  },
  {
   "cell_type": "code",
   "execution_count": null,
   "metadata": {},
   "outputs": [],
   "source": []
  }
 ],
 "metadata": {
  "interpreter": {
   "hash": "195fd7177374df90e8fb0ddf6905c3c94c4a4300f1cc015456754f40bbdfd90b"
  },
  "kernelspec": {
   "display_name": "Python 3.7.11 64-bit ('energizer-dev': conda)",
   "language": "python",
   "name": "python3"
  },
  "language_info": {
   "codemirror_mode": {
    "name": "ipython",
    "version": 3
   },
   "file_extension": ".py",
   "mimetype": "text/x-python",
   "name": "python",
   "nbconvert_exporter": "python",
   "pygments_lexer": "ipython3",
   "version": "3.9.12"
  },
  "orig_nbformat": 4
 },
 "nbformat": 4,
 "nbformat_minor": 2
}
